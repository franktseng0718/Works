{
 "cells": [
  {
   "cell_type": "markdown",
   "metadata": {},
   "source": [
    "# 使用「動態規劃」(Dynamic Programming)\n",
    "# 解背包問題(Knapsack Problem)"
   ]
  },
  {
   "cell_type": "markdown",
   "metadata": {},
   "source": [
    "### 給定背包容量x，以及一些不同大小的東西\n",
    "### 這些東西的體積記錄在\"lst\"這個list中"
   ]
  },
  {
   "cell_type": "markdown",
   "metadata": {},
   "source": [
    "## 判斷是否可以使用這些東西，恰好塞滿包包"
   ]
  },
  {
   "cell_type": "code",
   "execution_count": 1,
   "metadata": {},
   "outputs": [],
   "source": [
    "def is_valid_subset_sum(lst, x):\n",
    "    # 準備動態規劃的表格，初始化為False\n",
    "    M = [x[:] for x in [[False]*(x+1)]*(len(lst)+1)]\n",
    "    # 各行代表背包容量，從0到x共x+1種情況\n",
    "    # 各列代表可用的東西清單，由清單中逐次放入來考慮\n",
    "    # 第一列代表沒有東西放，所以不可能塞滿，全部都為False不變\n",
    "    # 第一行代表背包容量為0，放什麼都會爆，所以全部為False不變\n",
    "    # 因此我們從[1,1]開始考慮\n",
    "    for i in range(1, len(lst)+1):\n",
    "        for j in range(1, x+1):\n",
    "            # 若上面那格為True，代表這個容量已經存在塞滿的解法\n",
    "            # 因此該容量之後都必定為True\n",
    "            if M[i-1][j] == True:\n",
    "                M[i][j] = True\n",
    "            # 若這次放入的東西(這一列的對應lst值)恰好等於目前容量大小(這一行)，只放這個就可以剛好塞滿\n",
    "            # 所以也是一個解\n",
    "            elif j == lst[i-1]:\n",
    "                M[i][j] = True\n",
    "            # 若非上述兩情況\n",
    "            # 就試著塞入目前的物品(物品大小lst[i-1])(目前容量j)\n",
    "            # 剩下的容量就是j-lst[i-1]\n",
    "            # 接著看剩下容量是否可被先前的東西恰好塞滿\n",
    "            # 所以要檢查先前那一列中，對應剩下容量的那行是否為True\n",
    "            else:\n",
    "                if M[i-1][j-lst[i-1]] == True:\n",
    "                    M[i][j] = True\n",
    "    # 最右下角那格就是所求容量，考慮目前所有東西後的解\n",
    "    return(M[len(lst)][x])"
   ]
  },
  {
   "cell_type": "markdown",
   "metadata": {},
   "source": [
    "# 實測結果"
   ]
  },
  {
   "cell_type": "code",
   "execution_count": 2,
   "metadata": {},
   "outputs": [
    {
     "name": "stdout",
     "output_type": "stream",
     "text": [
      "True\n",
      "False\n",
      "False\n"
     ]
    }
   ],
   "source": [
    "print(is_valid_subset_sum([1,9,2,10,5],22))\n",
    "\n",
    "print(is_valid_subset_sum([1,9,2,10,5],23))\n",
    "\n",
    "print(is_valid_subset_sum([],1))"
   ]
  }
 ],
 "metadata": {
  "kernelspec": {
   "display_name": "Python 3",
   "language": "python",
   "name": "python3"
  },
  "language_info": {
   "codemirror_mode": {
    "name": "ipython",
    "version": 3
   },
   "file_extension": ".py",
   "mimetype": "text/x-python",
   "name": "python",
   "nbconvert_exporter": "python",
   "pygments_lexer": "ipython3",
   "version": "3.7.1"
  }
 },
 "nbformat": 4,
 "nbformat_minor": 4
}
