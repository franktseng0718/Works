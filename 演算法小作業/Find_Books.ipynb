{
 "cells": [
  {
   "cell_type": "markdown",
   "metadata": {},
   "source": [
    "### 彼得用他的零用錢，一次都恰買兩本書，且一定花光"
   ]
  },
  {
   "cell_type": "markdown",
   "metadata": {},
   "source": [
    "### 函數輸入一個list，包含各本書的價錢"
   ]
  },
  {
   "cell_type": "markdown",
   "metadata": {},
   "source": [
    "### 以及輸入一個正整數，代表彼得持有的零錢"
   ]
  },
  {
   "cell_type": "markdown",
   "metadata": {},
   "source": [
    "### 若list中有某兩本書的價錢之和恰為零錢，則輸出這兩個價錢"
   ]
  },
  {
   "cell_type": "markdown",
   "metadata": {},
   "source": [
    "### 若有不只一組解，則會回傳價差最小的兩個價錢"
   ]
  },
  {
   "cell_type": "markdown",
   "metadata": {},
   "source": [
    "### 若無符合的解(沒有任兩本書之和為零用錢數)，則回傳[-1, -1]"
   ]
  },
  {
   "cell_type": "code",
   "execution_count": 1,
   "metadata": {},
   "outputs": [],
   "source": [
    "def find_books(prices, money):\n",
    "    dist = money\n",
    "    a, b = 0, 0\n",
    "    for i in range(len(prices)):\n",
    "        for j in range(i + 1, len(prices)):\n",
    "            if prices[i] + prices[j] == money:\n",
    "                if abs(prices[i] - prices[j]) < dist:\n",
    "                    dist = abs(prices[i] - prices[j])\n",
    "                    a = min(prices[i], prices[j])\n",
    "                    b = max(prices[i], prices[j])\n",
    "    if a + b == 0:\n",
    "        return [-1, -1]\n",
    "    else:\n",
    "        return [a, b]"
   ]
  },
  {
   "cell_type": "markdown",
   "metadata": {},
   "source": [
    "### 實測結果"
   ]
  },
  {
   "cell_type": "code",
   "execution_count": 2,
   "metadata": {},
   "outputs": [
    {
     "name": "stdout",
     "output_type": "stream",
     "text": [
      "[4, 6]\n",
      "[40, 40]\n",
      "[191, 384]\n"
     ]
    }
   ],
   "source": [
    "print(find_books([10,2,6,4,8],10))\n",
    "\n",
    "print(find_books([40,40],80))\n",
    "\n",
    "print(find_books([191,384,120,485,80,517,84,553,125,146],575))"
   ]
  }
 ],
 "metadata": {
  "kernelspec": {
   "display_name": "Python 3",
   "language": "python",
   "name": "python3"
  },
  "language_info": {
   "codemirror_mode": {
    "name": "ipython",
    "version": 3
   },
   "file_extension": ".py",
   "mimetype": "text/x-python",
   "name": "python",
   "nbconvert_exporter": "python",
   "pygments_lexer": "ipython3",
   "version": "3.7.1"
  }
 },
 "nbformat": 4,
 "nbformat_minor": 2
}
