{
 "cells": [
  {
   "cell_type": "markdown",
   "metadata": {},
   "source": [
    "### 此為合併排序法的合併部分"
   ]
  },
  {
   "cell_type": "markdown",
   "metadata": {},
   "source": [
    "### 給定兩整數list，兩者皆已經過排序。"
   ]
  },
  {
   "cell_type": "markdown",
   "metadata": {},
   "source": [
    "### 第一個list中有足夠的空間(也就是有>=第二個list長度的None)，可以完全塞入第二個list"
   ]
  },
  {
   "cell_type": "markdown",
   "metadata": {},
   "source": [
    "### 現給定兩個符合上述條件的list以及它們的非None部分長度"
   ]
  },
  {
   "cell_type": "markdown",
   "metadata": {},
   "source": [
    "### 此函數將會直接改動第一個List，使其包含兩個list的所有元素，並排序好(整數部分，None皆置於最後)。"
   ]
  },
  {
   "cell_type": "code",
   "execution_count": 1,
   "metadata": {},
   "outputs": [],
   "source": [
    "def merge_two_sorted_arrays(nums1, m, nums2, n):\n",
    "    k = m+n-1\n",
    "    if m == 0:\n",
    "        nums1[:n] = nums2\n",
    "        return\n",
    "    while m > 0 and n > 0:\n",
    "        if nums2[n-1] >= nums1[m-1]:\n",
    "            nums1[k] = nums2[n-1]\n",
    "            k -= 1\n",
    "            n -= 1\n",
    "        else:\n",
    "            nums1[k] = nums1[m-1]\n",
    "            k -= 1\n",
    "            m -= 1\n",
    "    if m == 0:\n",
    "        nums1[:n] = nums2[:n]"
   ]
  },
  {
   "cell_type": "markdown",
   "metadata": {},
   "source": [
    "### 實測結果"
   ]
  },
  {
   "cell_type": "code",
   "execution_count": 2,
   "metadata": {},
   "outputs": [
    {
     "name": "stdout",
     "output_type": "stream",
     "text": [
      "[3, 5, 7, 11, 13, 17, 19]\n",
      "[-3, -1, -1, 0, 3]\n",
      "[-4, 1, 1, 2]\n"
     ]
    }
   ],
   "source": [
    "nums1 = [5,13,17,None,None,None,None,None]\n",
    "merge_two_sorted_arrays(nums1, 3, [3,7,11,19], 4)\n",
    "print(nums1[:7])\n",
    "\n",
    "nums1 = [-1,None,None,None,None,None,None]\n",
    "merge_two_sorted_arrays(nums1, 1, [-3,-1,0,3], 4)\n",
    "print(nums1[:5])\n",
    "\n",
    "nums1 = [-4,1,1,2]\n",
    "merge_two_sorted_arrays(nums1, 4, [], 0)\n",
    "print(nums1[:4])"
   ]
  }
 ],
 "metadata": {
  "kernelspec": {
   "display_name": "Python 3",
   "language": "python",
   "name": "python3"
  },
  "language_info": {
   "codemirror_mode": {
    "name": "ipython",
    "version": 3
   },
   "file_extension": ".py",
   "mimetype": "text/x-python",
   "name": "python",
   "nbconvert_exporter": "python",
   "pygments_lexer": "ipython3",
   "version": "3.7.1"
  }
 },
 "nbformat": 4,
 "nbformat_minor": 2
}
