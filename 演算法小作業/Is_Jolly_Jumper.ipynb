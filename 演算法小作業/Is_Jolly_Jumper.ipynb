{
 "cells": [
  {
   "cell_type": "markdown",
   "metadata": {},
   "source": [
    "### jolly jumper 原指一種嬰兒玩具\n",
    "### 輸入一個串列，其中所有元素皆為整數，串列不得為空\n",
    "### 接者每兩個相鄰數字相減，取絕對值\n",
    "### 若這n個數的n-1個差洽好為1, 2, ......, n-1各出現一次\n",
    "### 則函數回傳True\n",
    "### 否則回傳False"
   ]
  },
  {
   "cell_type": "code",
   "execution_count": 1,
   "metadata": {},
   "outputs": [],
   "source": [
    "def is_jolly_jump(l):\n",
    "    sumofl = 0\n",
    "    for i in range(len(l)):\n",
    "        sumofl += i\n",
    "    for i in range(len(l)-1):\n",
    "        d = abs(l[i] - l[i+1])\n",
    "        if d > len(l):\n",
    "            return False\n",
    "        sumofl -= d\n",
    "    if sumofl == 0:\n",
    "        return True\n",
    "    else:\n",
    "        return False"
   ]
  },
  {
   "cell_type": "markdown",
   "metadata": {},
   "source": [
    "### 實測結果"
   ]
  },
  {
   "cell_type": "code",
   "execution_count": 2,
   "metadata": {},
   "outputs": [
    {
     "name": "stdout",
     "output_type": "stream",
     "text": [
      "True\n",
      "False\n",
      "True\n"
     ]
    }
   ],
   "source": [
    "print(is_jolly_jump([1,4,2,3]))\n",
    "print(is_jolly_jump([1,4,2,-1,6]))\n",
    "print(is_jolly_jump([-46,-37,-29,-22,-16,-11,-7,-4,-2,-1]))"
   ]
  }
 ],
 "metadata": {
  "kernelspec": {
   "display_name": "Python 3",
   "language": "python",
   "name": "python3"
  },
  "language_info": {
   "codemirror_mode": {
    "name": "ipython",
    "version": 3
   },
   "file_extension": ".py",
   "mimetype": "text/x-python",
   "name": "python",
   "nbconvert_exporter": "python",
   "pygments_lexer": "ipython3",
   "version": "3.7.1"
  }
 },
 "nbformat": 4,
 "nbformat_minor": 2
}
