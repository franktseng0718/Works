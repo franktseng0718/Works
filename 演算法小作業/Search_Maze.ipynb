{
 "cells": [
  {
   "cell_type": "markdown",
   "metadata": {},
   "source": [
    "### 給定一個由二維陣列表示的矩形地圖\n",
    "### 0表示通道、1表示牆壁\n",
    "### 先將該陣列轉成一個Graph\n",
    "### 也是2Darray，只是內容由GraphVertex物件組成"
   ]
  },
  {
   "cell_type": "markdown",
   "metadata": {},
   "source": [
    "# 給定一個起點座標和終點座標\n",
    "# 使用先深遍歷搜尋(DFS)\n",
    "# 判斷是否可由起點走到終點\n",
    "# 若可以，則回傳True，否則回傳False"
   ]
  },
  {
   "cell_type": "code",
   "execution_count": 1,
   "metadata": {},
   "outputs": [],
   "source": [
    "def search_maze(m, s, e):\n",
    "    class GraphVertex:\n",
    "        def __init__(self):\n",
    "            self.discovered = False\n",
    "            self.processed = False\n",
    "            self.parent = None \n",
    "            self.edges = []\n",
    "    def initial_graph(g):\n",
    "        graph = []\n",
    "        for i in range(len(g)):\n",
    "            l = []\n",
    "            for j in range(len(g[0])):\n",
    "                l.append(GraphVertex())\n",
    "            graph.append(l)\n",
    "        for i in range(len(g)):\n",
    "            for j in range(len(g[0])):\n",
    "                if j+1 < len(g[0]):\n",
    "                    if g[i][j] + g[i][j+1] == 0:\n",
    "                        graph[i][j].edges.append(graph[i][j+1])\n",
    "                if j-1 >= 0:\n",
    "                    if g[i][j] + g[i][j-1] == 0:\n",
    "                        graph[i][j].edges.append(graph[i][j-1])\n",
    "                if i+1 < len(g):\n",
    "                    if g[i][j] + g[i+1][j] == 0:\n",
    "                        graph[i][j].edges.append(graph[i+1][j])\n",
    "                if i-1 >= 0:\n",
    "                    if g[i][j] + g[i-1][j] == 0:\n",
    "                        graph[i][j].edges.append(graph[i-1][j])\n",
    "        return graph\n",
    "    m = initial_graph(m)\n",
    "    def DFS(v):\n",
    "        v.discovered = True\n",
    "        for t in v.edges:\n",
    "            if not t.discovered:\n",
    "                t.parent = v\n",
    "                DFS(t)\n",
    "        v.processed = True\n",
    "    DFS(m[s[0]][s[1]])\n",
    "    if m[e[0]][e[1]].processed == True:\n",
    "        return True\n",
    "    else:\n",
    "        return False"
   ]
  },
  {
   "cell_type": "markdown",
   "metadata": {},
   "source": [
    "# 實測結果"
   ]
  },
  {
   "cell_type": "code",
   "execution_count": 2,
   "metadata": {},
   "outputs": [
    {
     "name": "stdout",
     "output_type": "stream",
     "text": [
      "True\n",
      "False\n",
      "True\n"
     ]
    }
   ],
   "source": [
    "m = [[0, 0, 1, 0], [0, 0, 0, 0], [0, 0, 0, 0], [0, 0, 1, 0], [1, 0, 0, 1], [0, 0, 0, 1]]\n",
    "print(search_maze(m, [2, 1], [2, 0]))\n",
    "\n",
    "m = [[0, 1, 0, 1, 0, 0], [0, 0, 0, 1, 0, 0], [0, 0, 1, 0, 1, 1], [1, 0, 0, 0, 0, 0]]\n",
    "print(search_maze(m, [3, 1], [0, 4]))\n",
    "\n",
    "m = [[1, 0, 0]]\n",
    "print(search_maze(m, [0, 2], [0, 1]))"
   ]
  }
 ],
 "metadata": {
  "kernelspec": {
   "display_name": "Python 3",
   "language": "python",
   "name": "python3"
  },
  "language_info": {
   "codemirror_mode": {
    "name": "ipython",
    "version": 3
   },
   "file_extension": ".py",
   "mimetype": "text/x-python",
   "name": "python",
   "nbconvert_exporter": "python",
   "pygments_lexer": "ipython3",
   "version": "3.7.1"
  }
 },
 "nbformat": 4,
 "nbformat_minor": 2
}
