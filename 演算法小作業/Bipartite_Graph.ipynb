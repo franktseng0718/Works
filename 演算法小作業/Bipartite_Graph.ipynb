{
 "cells": [
  {
   "cell_type": "markdown",
   "metadata": {},
   "source": [
    "# 二分圖問題：\n",
    "## 生成一個無向圖，判斷此圖是否可以\n",
    "## 只用兩個顏色將所有頂點著色\n",
    "## 並且相連的點之間不同顏色\n",
    "## 如果可以回傳True，否則False\n",
    "### 應用：電路板及其元件"
   ]
  },
  {
   "cell_type": "markdown",
   "metadata": {},
   "source": [
    "# 定義電路板上的「釘子」(圖的頂點)"
   ]
  },
  {
   "cell_type": "code",
   "execution_count": 1,
   "metadata": {},
   "outputs": [],
   "source": [
    "class Pin:\n",
    "    def __init__(self):\n",
    "        self.side = -1\n",
    "        self.wires = []\n",
    "# 有兩個屬性：\n",
    "# side屬性有3種值：-1,0,1\n",
    "# side == -1表示此釘子還沒被著色過(未探索)\n",
    "# side == 0表示此釘子被上第一種顏色\n",
    "# side == 1表示此釘子被上第二種顏色\n",
    "# wires屬性為一個list，存放與該點有「相連」的其他點"
   ]
  },
  {
   "cell_type": "markdown",
   "metadata": {},
   "source": [
    "# 打造「電路板」(圖的生成)\n",
    "### 給定輸入：釘子個數\"n\"，表示頂點連接關係的巢狀List\"wire_list\"\n",
    "### 輸出：電路板pcb(圖)"
   ]
  },
  {
   "cell_type": "code",
   "execution_count": 2,
   "metadata": {},
   "outputs": [],
   "source": [
    "def initial_pcb(n:int, wire_list:list)->list:\n",
    "    pcb = []\n",
    "    for i in range(n):\n",
    "        pcb.append(Pin())\n",
    "    for w in wire_list:\n",
    "        if 0 <= w[0] < n and 0 <= w[1] < n:\n",
    "            pcb[w[0]].wires.append(pcb[w[1]])\n",
    "    return pcb"
   ]
  },
  {
   "cell_type": "markdown",
   "metadata": {},
   "source": [
    "# 判斷可否二分著色，可以回傳True"
   ]
  },
  {
   "cell_type": "code",
   "execution_count": 3,
   "metadata": {},
   "outputs": [],
   "source": [
    "# 想法：用巢狀for迴圈，先遍歷整個pcb上面的pin\n",
    "# 如果這個pin是孤立的，不和其他pin相連，則上哪一種顏色都不影響，因此略過\n",
    "# 如果還沒著色就上第一種顏色，並且將相連的pin上第二種顏色\n",
    "# 如果已經上了第一種顏色，就將相連的pin統一上第二種顏色\n",
    "# 如果已經上了第二種顏色，就將相連的pin統一上第一種顏色\n",
    "# 如此一來所有點都有顏色了\n",
    "# 然後再用巢狀for迴圈遍歷一次，看看是否對於每個pin，與之相連的頂點都是異色的"
   ]
  },
  {
   "cell_type": "code",
   "execution_count": 4,
   "metadata": {},
   "outputs": [],
   "source": [
    "def is_circuit_wireable(pcb):\n",
    "    for i in pcb:\n",
    "        if i.wires == []:\n",
    "            continue\n",
    "        if i.side == -1:\n",
    "            i.side = 0\n",
    "            for j in i.wires:\n",
    "                if j.side == -1:\n",
    "                    j.side = 1\n",
    "        elif i.side == 0:\n",
    "            for j in i.wires:\n",
    "                j.side = 1\n",
    "        else:\n",
    "            for j in i.wires:\n",
    "                j.side = 0\n",
    "    for i in pcb:\n",
    "        for j in i.wires:\n",
    "            if j.side == i.side:\n",
    "                return False\n",
    "    return True"
   ]
  },
  {
   "cell_type": "markdown",
   "metadata": {},
   "source": [
    "# 實測結果"
   ]
  },
  {
   "cell_type": "code",
   "execution_count": 5,
   "metadata": {},
   "outputs": [
    {
     "name": "stdout",
     "output_type": "stream",
     "text": [
      "False\n",
      "True\n",
      "False\n"
     ]
    }
   ],
   "source": [
    "print(is_circuit_wireable(initial_pcb(5, [[2, 4], [4, 2], [1, 4], [4, 1], [3, 4], [4, 3], [1, 3], [3, 1]])))\n",
    "print(is_circuit_wireable(initial_pcb(4, [[0, 3], [3, 0], [2, 1], [1, 2], [2, 0], [0, 2]])))\n",
    "print(is_circuit_wireable(initial_pcb(12, [[1, 9], [9, 1], [9, 2], [2, 9], [11, 0], [0, 11], [8, 2], [2, 8], [10, 5], [5, 10], [1, 6], [6, 1], [5, 1], [1, 5], [5, 9], [9, 5], [6, 8], [8, 6]])))"
   ]
  }
 ],
 "metadata": {
  "kernelspec": {
   "display_name": "Python 3",
   "language": "python",
   "name": "python3"
  },
  "language_info": {
   "codemirror_mode": {
    "name": "ipython",
    "version": 3
   },
   "file_extension": ".py",
   "mimetype": "text/x-python",
   "name": "python",
   "nbconvert_exporter": "python",
   "pygments_lexer": "ipython3",
   "version": "3.7.1"
  }
 },
 "nbformat": 4,
 "nbformat_minor": 2
}
