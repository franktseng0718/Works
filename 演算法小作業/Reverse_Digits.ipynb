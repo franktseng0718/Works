{
 "cells": [
  {
   "cell_type": "markdown",
   "metadata": {},
   "source": [
    "### 給定數字，回傳將所有位數倒序排放的另一個數字"
   ]
  },
  {
   "cell_type": "markdown",
   "metadata": {},
   "source": [
    "### 正負數皆可，但數字需介於32位元符號整數之間，以避免overflow"
   ]
  },
  {
   "cell_type": "markdown",
   "metadata": {},
   "source": [
    "### 若輸入、輸出結果其中有超過32位元整數範圍的情況，回傳0"
   ]
  },
  {
   "cell_type": "code",
   "execution_count": 1,
   "metadata": {},
   "outputs": [],
   "source": [
    "def reverse_digits(x):\n",
    "    s = str(x)\n",
    "    if x >= 0:\n",
    "        if x < 2147483648:\n",
    "            s = s[::-1]\n",
    "            if int(s) < 2147483648:\n",
    "                return int(s)\n",
    "            else:\n",
    "                return 0\n",
    "        else:\n",
    "            return 0\n",
    "    if x < 0:\n",
    "        if x >= -2147483648:\n",
    "            s = s[1:]\n",
    "            s = s[::-1]\n",
    "            s = \"-\" + s\n",
    "            if int(s) >= -2147483648:\n",
    "                return int(s)\n",
    "            else:\n",
    "                return 0\n",
    "        else:\n",
    "            return 0"
   ]
  },
  {
   "cell_type": "markdown",
   "metadata": {},
   "source": [
    "### 實測結果"
   ]
  },
  {
   "cell_type": "code",
   "execution_count": 2,
   "metadata": {},
   "outputs": [
    {
     "name": "stdout",
     "output_type": "stream",
     "text": [
      "24\n",
      "-413\n",
      "0\n"
     ]
    }
   ],
   "source": [
    "print(reverse_digits(42))\n",
    "print(reverse_digits(-314))\n",
    "print(reverse_digits(1534236469))"
   ]
  }
 ],
 "metadata": {
  "kernelspec": {
   "display_name": "Python 3",
   "language": "python",
   "name": "python3"
  },
  "language_info": {
   "codemirror_mode": {
    "name": "ipython",
    "version": 3
   },
   "file_extension": ".py",
   "mimetype": "text/x-python",
   "name": "python",
   "nbconvert_exporter": "python",
   "pygments_lexer": "ipython3",
   "version": "3.7.1"
  }
 },
 "nbformat": 4,
 "nbformat_minor": 2
}
