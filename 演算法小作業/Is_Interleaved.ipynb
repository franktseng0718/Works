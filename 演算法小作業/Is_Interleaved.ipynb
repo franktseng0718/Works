{
 "cells": [
  {
   "cell_type": "markdown",
   "metadata": {},
   "source": [
    "### 給定3個字串x、y、z，長度分別為n、m、n+m。使用\n",
    "# 動態規劃(Dynamic Programming)\n",
    "### 的技巧，判斷出z是否是由x及y的字母交錯組成的「嵌合字」\n",
    "### 若是回傳True，否則回傳False。\n",
    "# 字的順序不可被打亂！"
   ]
  },
  {
   "cell_type": "code",
   "execution_count": 3,
   "metadata": {},
   "outputs": [
    {
     "data": {
      "text/plain": [
       "''"
      ]
     },
     "execution_count": 3,
     "metadata": {},
     "output_type": "execute_result"
    }
   ],
   "source": [
    "# 例子：\n",
    "'''\n",
    "x = 'abc', y = 'xyz'\n",
    "z = 'axbcyz' -> True\n",
    "z = 'axyczb' -> False(x順序不對)\n",
    "'''\n",
    "# 例子二\n",
    "'''\n",
    "x = 'abc', y = 'xyz'\n",
    "z = 'abcxyj' -> False\n",
    "'''\n",
    "''''''"
   ]
  },
  {
   "cell_type": "code",
   "execution_count": 4,
   "metadata": {},
   "outputs": [],
   "source": [
    "def is_interleaved(x, y, z):\n",
    "    # z is the given interleaved word, by x and y\n",
    "    n, m, l = len(x), len(y), len(z)\n",
    "    # 創造一個用於動態規劃的矩陣，大小為(n+1)*(m+1)，初始化元素值為True\n",
    "    # 各列分別對應到空字串''以及x的每個字元，所以有n+1列\n",
    "    # 各行分別對應到空字串''以及y的每個字元，所以有m+1行\n",
    "    T = [x[:] for x in [[True] * (m+1)] * (n+1)]\n",
    "    # 首先處理最上一列及最左一行\n",
    "    # 這兩種個方向分別可以看成依序把y的字母放入以及依序把x的字母放入\n",
    "    # 都是先考慮另一個字串，只先試著放這個字串\n",
    "    # 一個一個字母比對，若某個字元出現不一致了\n",
    "    # 則在此之後字元的對應格子都可以設定為False了\n",
    "    # 因為再怎麼放都不可能和z一樣了\n",
    "    # 例子：\n",
    "    '''\n",
    "    x = 'xyz', y = 'abc'\n",
    "    z = 'axbcyz'\n",
    "    \n",
    "    最上列對應的是先不考慮x(第一列代表x為空字串)，只依序放入y的字元\n",
    "    'a' v.s z的'a':一樣，True\n",
    "    'ab' v.s. z的'ax'：不一樣，False，而且之後理所當然都是False了：'abc'和'axb'\n",
    "    所以第一列最後會長成這樣：\n",
    "    [T, T, F, F]對應到依序加入'', a, b, c\n",
    "    \n",
    "    最左行同理\n",
    "    '''\n",
    "    # 看最左行\n",
    "    for i in range(n):\n",
    "        if x[i] != z[i]:\n",
    "            for t in range(i, n):\n",
    "                T[t+1][0] = False\n",
    "    # 看最上列，詳見上方紅字\n",
    "    for j in range(m):\n",
    "        if y[j] != z[j]:\n",
    "            T[0][j+1:] = [False] * (m-j)\n",
    "    # 接下來剩下的就是從位置[1, 1]到右下角的n*m矩陣要檢查更新了。\n",
    "    # 對於每一格，可以由上方或左邊走到\n",
    "    for i in range(1, n+1):\n",
    "        for j in range(1, m+1):\n",
    "            up = T[i-1][j] # 當前格子上方格\n",
    "            left = T[i][j-1] # 當前格子左邊格\n",
    "            # 若上方或左邊格子都是False，表示路斷了，沒有格子可以走到這個\n",
    "            # 換言之，此時不論添加的下一個字母來自x或y，之後都不可能成為正確的z\n",
    "            # 該格設為False\n",
    "            if not (up or left):\n",
    "                T[i][j] = False\n",
    "            # 否則，至少有一條路通\n",
    "            # 又假設此格座標[i, j]，則此時該通路代表目前前i+j-1個字母都和z一致\n",
    "            else:\n",
    "                # 若上面不通左邊通\n",
    "                if not up:\n",
    "                    # 表示沒法放x的字元了，但y還可以繼續放，所以放y的下一個字元\n",
    "                    # 看結果和z的前i+j個字母是否一致，若是則True\n",
    "                    T[i][j] = (z[:i+j-1] + y[j-1] == z[:i+j])\n",
    "                # 若左邊不通上面通\n",
    "                elif not left:\n",
    "                    # 表示沒法放y的字元了，但x還可以繼續放，所以放x的下一個字元\n",
    "                    # 看結果和z的前i+j個字母是否一致，若是則True\n",
    "                    T[i][j] = (z[:i+j-1] + x[i-1] == z[:i+j])\n",
    "                # 若左邊和上面都通\n",
    "                else:\n",
    "                    # 把x的前i個字元和y的前j個y字元結合\n",
    "                    # 看結果和z的前i+j個字母是否一致，若是則True\n",
    "                    # 此時先放x再放y和先放y再放x，結果都是一樣的\n",
    "                    T[i][j] = (x[:i] + y[:j] == z[:i+j])\n",
    "    # 最後回傳最右下角格子的值\n",
    "    # 若True表示可以從左上角走到右下角\n",
    "    # 也就是存在至少一種可以交錯x及y拼湊成z的方法\n",
    "    return(T[n][m])"
   ]
  },
  {
   "cell_type": "markdown",
   "metadata": {},
   "source": [
    "# 實測結果"
   ]
  },
  {
   "cell_type": "code",
   "execution_count": 5,
   "metadata": {},
   "outputs": [
    {
     "name": "stdout",
     "output_type": "stream",
     "text": [
      "True\n",
      "False\n",
      "True\n"
     ]
    }
   ],
   "source": [
    "x = \"chocolate\"\n",
    "y = \"chips\"\n",
    "z = \"cchocohilaptes\"\n",
    "print(is_interleaved(x,y,z))\n",
    "\n",
    "x = \"chocolate\"\n",
    "y = \"chips\"\n",
    "z = \"chocochilatspe\"\n",
    "print(is_interleaved(x,y,z))\n",
    "\n",
    "x = \"a\"\n",
    "y = \"\"\n",
    "z = \"a\"\n",
    "print(is_interleaved(x,y,z))"
   ]
  }
 ],
 "metadata": {
  "kernelspec": {
   "display_name": "Python 3",
   "language": "python",
   "name": "python3"
  },
  "language_info": {
   "codemirror_mode": {
    "name": "ipython",
    "version": 3
   },
   "file_extension": ".py",
   "mimetype": "text/x-python",
   "name": "python",
   "nbconvert_exporter": "python",
   "pygments_lexer": "ipython3",
   "version": "3.7.1"
  }
 },
 "nbformat": 4,
 "nbformat_minor": 2
}
