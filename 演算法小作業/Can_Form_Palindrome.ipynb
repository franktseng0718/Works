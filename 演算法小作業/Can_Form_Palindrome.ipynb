{
 "cells": [
  {
   "cell_type": "markdown",
   "metadata": {},
   "source": [
    "### palindrome亦即「回文」，也就是正反都一樣的單字\n",
    "### 輸入一組字串，檢測該字串是否可以拼湊成回文"
   ]
  },
  {
   "cell_type": "code",
   "execution_count": 1,
   "metadata": {},
   "outputs": [],
   "source": [
    "def can_form_palindrome(s):\n",
    "    l = list(s)\n",
    "    l.sort()\n",
    "    if len(l) < 2:\n",
    "        return True\n",
    "    single = 0\n",
    "    if len(l) % 2 == 0:\n",
    "        while len(l) > 1:\n",
    "            if l[1] == l[0]:\n",
    "                l.remove(l[0])\n",
    "                l.remove(l[0])\n",
    "            else:\n",
    "                return False\n",
    "        return True\n",
    "    else:\n",
    "        while len(l) > 1:\n",
    "            if l[1] == l[0]:\n",
    "                l.remove(l[0])\n",
    "                l.remove(l[0])\n",
    "            else:\n",
    "                l.remove(l[0])\n",
    "                single += 1\n",
    "        if single > 1:\n",
    "            return False\n",
    "        else:\n",
    "            return True"
   ]
  },
  {
   "cell_type": "markdown",
   "metadata": {},
   "source": [
    "### 實測結果"
   ]
  },
  {
   "cell_type": "code",
   "execution_count": 2,
   "metadata": {},
   "outputs": [
    {
     "name": "stdout",
     "output_type": "stream",
     "text": [
      "True\n",
      "False\n",
      "True\n"
     ]
    }
   ],
   "source": [
    "print(can_form_palindrome(\"edified\"))\n",
    "print(can_form_palindrome(\"string\"))\n",
    "print(can_form_palindrome(\"ueelmtstsuomsmseoiesmisl\"))"
   ]
  }
 ],
 "metadata": {
  "kernelspec": {
   "display_name": "Python 3",
   "language": "python",
   "name": "python3"
  },
  "language_info": {
   "codemirror_mode": {
    "name": "ipython",
    "version": 3
   },
   "file_extension": ".py",
   "mimetype": "text/x-python",
   "name": "python",
   "nbconvert_exporter": "python",
   "pygments_lexer": "ipython3",
   "version": "3.7.1"
  }
 },
 "nbformat": 4,
 "nbformat_minor": 2
}
