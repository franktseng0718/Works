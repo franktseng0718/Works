{
 "cells": [
  {
   "cell_type": "markdown",
   "metadata": {},
   "source": [
    "# 將圖(Graph)轉成鄰接矩陣(Adjacency Matrix)表示"
   ]
  },
  {
   "cell_type": "markdown",
   "metadata": {},
   "source": [
    "# 定義頂點(GraphVertex)"
   ]
  },
  {
   "cell_type": "code",
   "execution_count": 1,
   "metadata": {},
   "outputs": [],
   "source": [
    "# 各頂點有兩種屬性：\n",
    "# label屬性為頂點的資料值(1~n)\n",
    "# edges屬性為一個List，表示各個與該頂點構成「相連」的邊的其他頂點"
   ]
  },
  {
   "cell_type": "code",
   "execution_count": 2,
   "metadata": {},
   "outputs": [],
   "source": [
    "class GraphVertex:\n",
    "    def __init__(self, label):\n",
    "        self.label = label\n",
    "        self.edges = []   #Edges in Adjacency List"
   ]
  },
  {
   "cell_type": "markdown",
   "metadata": {},
   "source": [
    "# 生成圖(Graph)\n",
    "### 給定輸入：頂點個數\"n\"，表示頂點連接關係的巢狀List\"edge_list\"\n",
    "### 輸出：圖"
   ]
  },
  {
   "cell_type": "code",
   "execution_count": 3,
   "metadata": {},
   "outputs": [],
   "source": [
    "def initial_graph(n:int, edge_list:list)->list:\n",
    "    graph = []\n",
    "    for i in range(n):\n",
    "        graph.append(GraphVertex(i))\n",
    "    for e in edge_list:\n",
    "        if 0 <= e[0] < n and 0 <= e[1] < n:\n",
    "            graph[e[0]].edges.append(graph[e[1]])\n",
    "    return graph"
   ]
  },
  {
   "cell_type": "markdown",
   "metadata": {},
   "source": [
    "# 將圖轉為鄰接矩陣"
   ]
  },
  {
   "cell_type": "code",
   "execution_count": 4,
   "metadata": {},
   "outputs": [],
   "source": [
    "def to_adj_matrix(graph):\n",
    "    M = [x[:] for x in [[0]*len(graph)]*len(graph)] #初始化鄰接矩陣\n",
    "    for i in range(len(graph)):\n",
    "        if graph[i].edges != []:\n",
    "            for j in graph[i].edges:\n",
    "                M[i][j.label] = 1\n",
    "    return M"
   ]
  },
  {
   "cell_type": "markdown",
   "metadata": {},
   "source": [
    "# 實測結果"
   ]
  },
  {
   "cell_type": "code",
   "execution_count": 5,
   "metadata": {},
   "outputs": [
    {
     "name": "stdout",
     "output_type": "stream",
     "text": [
      "[[0, 0, 0, 0, 0], [0, 0, 0, 1, 1], [0, 0, 0, 0, 1], [0, 1, 0, 0, 1], [0, 1, 1, 1, 0]]\n",
      "[[0, 0, 1, 0], [0, 1, 1, 0], [0, 1, 0, 0], [1, 0, 0, 1]]\n"
     ]
    }
   ],
   "source": [
    "print(to_adj_matrix(initial_graph(5, [[2, 4], [4, 2], [1, 4], [4, 1], [3, 4], [4, 3], [1, 3], [3, 1]])))\n",
    "print(to_adj_matrix(initial_graph(4, [[1, 1], [3, 0], [2, 1], [1, 2], [0, 2], [3, 3]])))"
   ]
  }
 ],
 "metadata": {
  "kernelspec": {
   "display_name": "Python 3",
   "language": "python",
   "name": "python3"
  },
  "language_info": {
   "codemirror_mode": {
    "name": "ipython",
    "version": 3
   },
   "file_extension": ".py",
   "mimetype": "text/x-python",
   "name": "python",
   "nbconvert_exporter": "python",
   "pygments_lexer": "ipython3",
   "version": "3.7.1"
  }
 },
 "nbformat": 4,
 "nbformat_minor": 2
}
