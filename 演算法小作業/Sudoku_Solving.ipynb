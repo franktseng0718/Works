{
 "cells": [
  {
   "cell_type": "markdown",
   "metadata": {},
   "source": [
    "# 使用「回溯法」(backtracking)的框架\n",
    "# 解    數    獨！"
   ]
  },
  {
   "cell_type": "code",
   "execution_count": 1,
   "metadata": {},
   "outputs": [],
   "source": [
    "# 數獨：一般來說是9*9的格子中\n",
    "# 每格填入1~9其中一數\n",
    "# 但是須符合以下規則：\n",
    "# 對於每一行、每一列、以及每一個3*3小方格\n",
    "# 1~9都必須且只能出現一次！"
   ]
  },
  {
   "cell_type": "code",
   "execution_count": 2,
   "metadata": {},
   "outputs": [],
   "source": [
    "# 以下的版本在不同大小的數獨都行的通\n",
    "# 前提是邊長格數平方根需為整數\n",
    "# 例如4*4, 9*9, 16*16, ..."
   ]
  },
  {
   "cell_type": "markdown",
   "metadata": {},
   "source": [
    "### 以下為回溯法的框架："
   ]
  },
  {
   "cell_type": "code",
   "execution_count": 5,
   "metadata": {},
   "outputs": [],
   "source": [
    "def do_backtrack(a:list, inputs:list):\n",
    "    c = []\n",
    "    if (is_a_solution(a, inputs)):\n",
    "        process_solution(a, inputs)\n",
    "    else:\n",
    "        construct_candidate(a, inputs, c)\n",
    "        for i in c:\n",
    "            a.append(i)\n",
    "            do_backtrack(a, inputs)\n",
    "            a.pop()"
   ]
  },
  {
   "cell_type": "markdown",
   "metadata": {},
   "source": [
    "### 判斷目前的解向量\"a\"是否為可能解：用長度判斷\n",
    "### 注意到這裡的解向量a其中的元素\n",
    "### 是要填入「空格」的數字，按列依序填入\n",
    "### 因此我們先計算出空格的數量，若a的長度達到空格數就為正解\n",
    "### (空格在題目中以數字0填充表示)"
   ]
  },
  {
   "cell_type": "code",
   "execution_count": 6,
   "metadata": {},
   "outputs": [],
   "source": [
    "def is_a_solution(a, inputs):\n",
    "    n = len(inputs)\n",
    "    count = 0\n",
    "    for i in range(n):\n",
    "        for j in range(n):\n",
    "            if inputs[i][j] == 0:\n",
    "                count += 1\n",
    "    return len(a) == count"
   ]
  },
  {
   "cell_type": "markdown",
   "metadata": {},
   "source": [
    "## 以下為核心的子程式！\n",
    "### 用來產生下一個\n",
    "### 添加到解向量中的候選解的程式\n",
    "### 所產生的候選必須考慮目前解向量的答案\n",
    "### 依照問題敘述中的規則"
   ]
  },
  {
   "cell_type": "code",
   "execution_count": 8,
   "metadata": {},
   "outputs": [
    {
     "data": {
      "text/plain": [
       "'\\n想法與作法詳述：\\n首先將題目與目前的解向量各複製一份\\n並對副本操作，防止被汙染到。\\n因此以下題目與解向量操作都是作用在副本喔！\\n\\n首先將第一個迴圈跑過題目的所有格子\\n只要發現有空格(以0表示)，就填入目前解向量的答案\\n一格一格進去，直到把解向量a填完\\n此時我們就得到一個填入a的部分解了\\n\\n第二個迴圈是求出這個部分解的第一個空格在哪\\n也就是說，求出我們下一個需要填的空格是哪個\\n\\n最後這個大迴圈就是重頭戲啦！\\n試著把每個數字填入並判斷，不合以下條件(有重複數字)的剔掉：\\n1.目前部分解中，這一列已經有這個數字了(第一個if)\\n2.目前部分解中，這一欄已經有這個數字了(第二個if)\\n3.目前部分解中，這一3*3的小九宮格已經有這個數字了(第三個if)\\n第三個if之前的部分，是在求出目前要填的空格屬於哪個小九宮格\\n並且把這個九宮格的左上角位置抓出來\\n然後就可以輕鬆把九宮格其他部分也跟著抓出來了\\n'"
      ]
     },
     "execution_count": 8,
     "metadata": {},
     "output_type": "execute_result"
    }
   ],
   "source": [
    "\"\"\"\n",
    "想法與作法詳述：\n",
    "首先將題目與目前的解向量各複製一份\n",
    "並對副本操作，防止被汙染到。\n",
    "因此以下題目與解向量操作都是作用在副本喔！\n",
    "\n",
    "首先將第一個迴圈跑過題目的所有格子\n",
    "只要發現有空格(以0表示)，就填入目前解向量的答案\n",
    "一格一格進去，直到把解向量a填完\n",
    "此時我們就得到一個填入a的部分解了\n",
    "\n",
    "第二個迴圈是求出這個部分解的第一個空格在哪\n",
    "也就是說，求出我們下一個需要填的空格是哪個\n",
    "\n",
    "最後這個大迴圈就是重頭戲啦！\n",
    "試著把每個數字填入並判斷，不合以下條件(有重複數字)的剔掉：\n",
    "1.目前部分解中，這一列已經有這個數字了(第一個if)\n",
    "2.目前部分解中，這一欄已經有這個數字了(第二個if)\n",
    "3.目前部分解中，這一3*3的小九宮格已經有這個數字了(第三個if)\n",
    "第三個if之前的部分，是在求出目前要填的空格屬於哪個小九宮格\n",
    "並且把這個九宮格的左上角位置抓出來\n",
    "然後就可以輕鬆把九宮格其他部分也跟著抓出來了\n",
    "\"\"\""
   ]
  },
  {
   "cell_type": "code",
   "execution_count": 7,
   "metadata": {},
   "outputs": [],
   "source": [
    "def construct_candidate(a, inputs, c):\n",
    "    partial = [x[:] for x in inputs.copy()]\n",
    "    b = a.copy()\n",
    "    n, k = len(inputs), len(a)\n",
    "    q = int(n ** 0.5)\n",
    "    for i in range(n ** 2):\n",
    "        ridx = i // n\n",
    "        cidx = i % n\n",
    "        if partial[ridx][cidx] == 0 and len(b) > 0:\n",
    "            partial[ridx][cidx] = b.pop(0)\n",
    "    for i in range(n ** 2):\n",
    "        ridx = i // n\n",
    "        cidx = i % n\n",
    "        if partial[ridx][cidx] == 0:\n",
    "            break\n",
    "    for t in range(n):\n",
    "        i = t + 1\n",
    "        legal = True\n",
    "        if i in partial[ridx]:\n",
    "            legal = False\n",
    "        if not all([str(partial[j][cidx]) if partial[j][cidx] != i else '' for j in range(n)]):\n",
    "            legal = False\n",
    "        ul_row = (ridx // q) * q\n",
    "        ul_col = (cidx // q) * q\n",
    "        l = []\n",
    "        for m in range(q):\n",
    "            l += partial[ul_row][ul_col:ul_col + q]\n",
    "            ul_row += 1\n",
    "        if i in l:\n",
    "            legal = False\n",
    "        if legal:\n",
    "            c.append(i)"
   ]
  },
  {
   "cell_type": "markdown",
   "metadata": {},
   "source": [
    "### 若該解向量a為正解，先複製一份題目\n",
    "### 把正解a按列依序填入空格"
   ]
  },
  {
   "cell_type": "code",
   "execution_count": 9,
   "metadata": {},
   "outputs": [],
   "source": [
    "def process_solution(a:list, inputs:list):\n",
    "    global solution\n",
    "    solution = [x[:] for x in inputs.copy()]\n",
    "    index, n = 0, len(inputs)\n",
    "    for i in range(n):\n",
    "        for j in range(n):\n",
    "            if solution[i][j] == 0 and index < len(a):\n",
    "                solution[i][j] = a[index]\n",
    "                index += 1"
   ]
  },
  {
   "cell_type": "markdown",
   "metadata": {},
   "source": [
    "### 以下單純用做檢查這個解答是否正確無誤"
   ]
  },
  {
   "cell_type": "code",
   "execution_count": 10,
   "metadata": {},
   "outputs": [],
   "source": [
    "import math\n",
    "def is_valid_sudoku(partial_assignment:list)->bool:\n",
    "    #Return True if subarray partial_assignment[start_row:end_row][start_col:end_coL]\n",
    "    #contains any duplicates in {1, 2, ..., len(partial_assignnent)};\n",
    "    #otherwise return False.\n",
    "    def has_duplicate(block):\n",
    "        block = list(filter(lambda x: x!=0, block))\n",
    "        return len(block) != len(set(block)) \n",
    "    n = len(partial_assignment)\n",
    "    #Check row and column constraints.\n",
    "    if any(has_duplicate([partial_assignment[i][j] for j in range(n)])\n",
    "           or has_duplicate([partial_assignment[j][i] for j in range(n)])\n",
    "           for i in range(n)):\n",
    "        return False\n",
    "    #Check region constraints.\n",
    "    region_size = int(math.sqrt(n))\n",
    "    return all(not has_duplicate([\n",
    "        partial_assignment[a][b]\n",
    "        for a in range(region_size * I, region_size * (I+1))\n",
    "        for b in range(region_size * J, region_size * (J+1))])\n",
    "        for I in range(region_size) for J in range(region_size))\n",
    "\n",
    "def check_solution(sol:list, init:list)->str:\n",
    "    n = len(sol)\n",
    "    #Check empty slots\n",
    "    for r in range(n):\n",
    "        for c in range(n):\n",
    "            if sol[r][c] == 0:\n",
    "                return \"There has empty slot(s) in solution.\"\n",
    "    #Check valid or not\n",
    "    if (sol == [] or not is_valid_sudoku(sol)):\n",
    "        return \"It's not a valid solution!\"\n",
    "    #Check solving from init grid\n",
    "    for r in range(n):\n",
    "        for c in range(n):\n",
    "            if init[r][c] != 0 and sol[r][c] != init[r][c]:\n",
    "                return \"It's not solved from initial grid.\"\n",
    "    return \"pass!\""
   ]
  },
  {
   "cell_type": "markdown",
   "metadata": {},
   "source": [
    "# 實測結果"
   ]
  },
  {
   "cell_type": "code",
   "execution_count": 11,
   "metadata": {},
   "outputs": [
    {
     "name": "stdout",
     "output_type": "stream",
     "text": [
      "pass!\n",
      "[[9, 3, 2, 1, 7, 6, 8, 5, 4], [8, 6, 5, 2, 9, 4, 1, 7, 3], [4, 1, 7, 3, 8, 5, 9, 2, 6], [5, 8, 1, 6, 2, 7, 4, 3, 9], [3, 9, 6, 5, 4, 8, 7, 1, 2], [2, 7, 4, 9, 1, 3, 5, 6, 8], [6, 4, 8, 7, 3, 1, 2, 9, 5], [7, 5, 9, 4, 6, 2, 3, 8, 1], [1, 2, 3, 8, 5, 9, 6, 4, 7]]\n",
      "pass!\n",
      "[[8, 5, 7, 4, 2, 3, 9, 1, 6], [6, 1, 3, 7, 8, 9, 5, 4, 2], [4, 9, 2, 6, 1, 5, 7, 8, 3], [5, 6, 4, 2, 9, 7, 1, 3, 8], [3, 7, 1, 8, 5, 6, 4, 2, 9], [2, 8, 9, 1, 3, 4, 6, 5, 7], [7, 2, 8, 9, 4, 1, 3, 6, 5], [9, 4, 5, 3, 6, 2, 8, 7, 1], [1, 3, 6, 5, 7, 8, 2, 9, 4]]\n",
      "pass!\n",
      "[[8, 4, 1, 3, 2, 9, 5, 7, 6], [3, 5, 7, 8, 4, 6, 9, 1, 2], [6, 9, 2, 7, 5, 1, 3, 4, 8], [5, 7, 8, 4, 1, 2, 6, 9, 3], [2, 3, 6, 9, 7, 8, 1, 5, 4], [9, 1, 4, 5, 6, 3, 2, 8, 7], [1, 8, 5, 6, 3, 7, 4, 2, 9], [4, 6, 9, 2, 8, 5, 7, 3, 1], [7, 2, 3, 1, 9, 4, 8, 6, 5]]\n"
     ]
    }
   ],
   "source": [
    "solution = []\n",
    "sudoku = [[0, 3, 2, 0, 0, 0, 8, 0, 4], [8, 0, 0, 2, 0, 0, 0, 7, 0], [0, 1, 7, 0, 0, 5, 9, 0, 6], [5, 8, 0, 0, 2, 0, 0, 3, 0], [0, 0, 6, 0, 4, 0, 7, 0, 0], [0, 0, 4, 9, 1, 3, 0, 6, 0], [0, 0, 0, 7, 3, 0, 2, 0, 0], [0, 5, 9, 0, 0, 0, 0, 0, 1], [1, 0, 0, 8, 0, 9, 0, 0, 0]]\n",
    "do_backtrack([],sudoku)\n",
    "print(check_solution(solution, sudoku))\n",
    "print(solution)\n",
    "\n",
    "solution = []\n",
    "sudoku = [[0, 5, 7, 0, 2, 3, 0, 1, 6], [0, 0, 0, 7, 0, 9, 5, 0, 0], [0, 0, 2, 0, 0, 0, 0, 8, 0], [0, 0, 0, 0, 0, 0, 0, 3, 0], [3, 0, 0, 8, 0, 6, 4, 0, 9], [2, 0, 9, 0, 0, 0, 0, 0, 7], [0, 2, 0, 9, 0, 1, 0, 0, 5], [9, 0, 0, 3, 6, 0, 8, 0, 1], [0, 0, 6, 0, 7, 0, 0, 0, 4]]\n",
    "do_backtrack([],sudoku)\n",
    "print(check_solution(solution, sudoku))\n",
    "print(solution)\n",
    "\n",
    "solution = []\n",
    "sudoku = [[8, 0, 0, 3, 2, 0, 0, 7, 0], [0, 5, 7, 8, 0, 0, 9, 0, 0], [0, 9, 0, 0, 0, 1, 0, 4, 0], [0, 7, 8, 0, 1, 0, 6, 0, 3], [2, 0, 0, 0, 7, 0, 1, 0, 0], [9, 0, 4, 5, 0, 3, 0, 0, 0], [0, 0, 5, 6, 0, 0, 0, 0, 9], [0, 6, 0, 0, 8, 0, 7, 0, 1], [0, 0, 3, 0, 0, 4, 8, 0, 0]]\n",
    "do_backtrack([],sudoku)\n",
    "print(check_solution(solution, sudoku))\n",
    "print(solution)"
   ]
  }
 ],
 "metadata": {
  "kernelspec": {
   "display_name": "Python 3",
   "language": "python",
   "name": "python3"
  },
  "language_info": {
   "codemirror_mode": {
    "name": "ipython",
    "version": 3
   },
   "file_extension": ".py",
   "mimetype": "text/x-python",
   "name": "python",
   "nbconvert_exporter": "python",
   "pygments_lexer": "ipython3",
   "version": "3.7.1"
  }
 },
 "nbformat": 4,
 "nbformat_minor": 2
}
