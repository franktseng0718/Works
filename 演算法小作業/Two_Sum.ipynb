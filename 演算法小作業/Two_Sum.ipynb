{
 "cells": [
  {
   "cell_type": "markdown",
   "metadata": {},
   "source": [
    "### 輸入一個整數串列以及一個數值，若此數值可以由串列中的\n",
    "### 某兩個數字相加得到，則回傳那兩個數值的索引值\n",
    "### 否則回傳[-1, -1]"
   ]
  },
  {
   "cell_type": "markdown",
   "metadata": {},
   "source": [
    "### 串列中每個數字只可被使用一次\n",
    "### 以下小程式假設這種加總只有唯一解"
   ]
  },
  {
   "cell_type": "code",
   "execution_count": 1,
   "metadata": {},
   "outputs": [],
   "source": [
    "def two_sum(lst, target):\n",
    "    for i in range(len(lst)):\n",
    "        for j in range(i + 1, len(lst)):\n",
    "            if lst[i] + lst[j] == target:\n",
    "                return [i, j]\n",
    "    return [-1, -1]"
   ]
  },
  {
   "cell_type": "markdown",
   "metadata": {},
   "source": [
    "### 實測結果"
   ]
  },
  {
   "cell_type": "code",
   "execution_count": 2,
   "metadata": {},
   "outputs": [
    {
     "name": "stdout",
     "output_type": "stream",
     "text": [
      "[0, 1]\n",
      "[-1, -1]\n",
      "[0, 4]\n"
     ]
    }
   ],
   "source": [
    "print(two_sum([2,7,11,15],9))\n",
    "print(two_sum([3,4,5,2],10))\n",
    "print(two_sum([3,4,5,8,7,9],10))"
   ]
  }
 ],
 "metadata": {
  "kernelspec": {
   "display_name": "Python 3",
   "language": "python",
   "name": "python3"
  },
  "language_info": {
   "codemirror_mode": {
    "name": "ipython",
    "version": 3
   },
   "file_extension": ".py",
   "mimetype": "text/x-python",
   "name": "python",
   "nbconvert_exporter": "python",
   "pygments_lexer": "ipython3",
   "version": "3.7.1"
  }
 },
 "nbformat": 4,
 "nbformat_minor": 2
}
