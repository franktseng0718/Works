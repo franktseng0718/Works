{
 "cells": [
  {
   "cell_type": "markdown",
   "metadata": {},
   "source": [
    "# 使用「動態規劃」(Dynamic Programming)\n",
    "# 求最大單調次序列(Maximum Monotone Sequence, MMS)的長度"
   ]
  },
  {
   "cell_type": "markdown",
   "metadata": {},
   "source": [
    "### 取出子序列時不用連續\n",
    "### MMS是一種特殊子序列，它是能取出的最長的遞增子序列\n",
    "### MMS可能不只一組，但是長度必定一樣\n",
    "### 例子：[1,2,3,0,7,5]有兩組MMS：\n",
    "### [1,2,3,7]以及[1,2,3,5]"
   ]
  },
  {
   "cell_type": "markdown",
   "metadata": {},
   "source": [
    "## 給定一組序列s，求出MMS的長度"
   ]
  },
  {
   "cell_type": "code",
   "execution_count": 1,
   "metadata": {},
   "outputs": [],
   "source": [
    "def length_of_MMS(s):\n",
    "    # 動態規劃要用的list，初始化值為1\n",
    "    # 因為最短的可能MMS長度起碼是1(除非序列為空)\n",
    "    # 此時就是只有自己一個元素\n",
    "    # 可以想像s恰好不幸地遞減排序的極端例子\n",
    "    lst = [1] * len(s)\n",
    "    # 若s是空序列，那MMS也是空的，長度0\n",
    "    if s == []:\n",
    "        return(0)\n",
    "    # 從左邊往右看，最左邊必定為1，因為他是第一個\n",
    "    # 所以從第二個元素看起\n",
    "    for i in range(1, len(s)):\n",
    "        # 對於每個元素都檢查他的左邊每個元素\n",
    "        for j in range(i-1, -1, -1):\n",
    "            # 如果這個元素左邊的某個元素大\n",
    "            # 就把那個元素累積的長度+1，填入當前元素格子\n",
    "            # 表示符合遞增規則，可以放進MMS\n",
    "            if s[i] > s[j]:\n",
    "                # 注意！MMS要是最長的那個序列！\n",
    "                # 所以是要把當前元素，放入當前最長的MMS候補\n",
    "                lst[i] = max(lst[i], lst[j] + 1)\n",
    "    # 最後lst中的元素代表直到s的對應位置元素為止的MMS候補的長度\n",
    "    # MMS必須是最長的那個，所以回傳max的結果\n",
    "    return(max(lst))"
   ]
  },
  {
   "cell_type": "markdown",
   "metadata": {},
   "source": [
    "# 實測結果"
   ]
  },
  {
   "cell_type": "code",
   "execution_count": 2,
   "metadata": {},
   "outputs": [
    {
     "name": "stdout",
     "output_type": "stream",
     "text": [
      "5\n",
      "6\n",
      "0\n"
     ]
    }
   ],
   "source": [
    "print(length_of_MMS([2,4,3,5,1,7,6,9,8]))\n",
    "\n",
    "print(length_of_MMS([1,3,6,7,9,4,10,5,6]))\n",
    "\n",
    "print(length_of_MMS([]))"
   ]
  }
 ],
 "metadata": {
  "kernelspec": {
   "display_name": "Python 3",
   "language": "python",
   "name": "python3"
  },
  "language_info": {
   "codemirror_mode": {
    "name": "ipython",
    "version": 3
   },
   "file_extension": ".py",
   "mimetype": "text/x-python",
   "name": "python",
   "nbconvert_exporter": "python",
   "pygments_lexer": "ipython3",
   "version": "3.7.1"
  }
 },
 "nbformat": 4,
 "nbformat_minor": 4
}
