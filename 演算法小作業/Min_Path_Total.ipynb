{
 "cells": [
  {
   "cell_type": "markdown",
   "metadata": {},
   "source": [
    "# 使用「動態規劃」(Dynamic Programming)\n",
    "# 求出一個金字塔由頂到底的最小權重路徑"
   ]
  },
  {
   "attachments": {
    "ex11-1.png": {
     "image/png": "[encoded data removed]"
    }
   },
   "cell_type": "markdown",
   "metadata": {},
   "source": [
    "![ex11-1.png](attachment:ex11-1.png)"
   ]
  },
  {
   "cell_type": "markdown",
   "metadata": {},
   "source": [
    "## 如上圖，給定一個金字塔(nested lists)，每個磚塊都有權重\n",
    "## 粗體部分為由頂到底的最小權重路徑，該路徑權重15\n",
    "## 求出並回傳這個最小權重"
   ]
  },
  {
   "cell_type": "code",
   "execution_count": 1,
   "metadata": {},
   "outputs": [],
   "source": [
    "def min_path_total(lst):\n",
    "    # 複製一份金字塔，動態規劃要用的\n",
    "    dp = [x[:] for x in lst.copy()]\n",
    "    # 第一層上面沒東西，所以權重就是該值，沒啥好說的\n",
    "    # 所以我們從第二層開始考慮，填入每格的最小累積權重\n",
    "    for i in range(1, len(dp)):\n",
    "        # 最左邊那格只有最左那條路\n",
    "        # 所以累積權重就是直接加上上層最左的累積權重\n",
    "        dp[i][0] += dp[i-1][0]\n",
    "        # 同理，最右邊那格只有最右那條路\n",
    "        # 所以累積權重就是直接加上上層最右的累積權重\n",
    "        dp[i][-1] += dp[i-1][-1]\n",
    "        # 接下來考慮中間的區塊，來自上層有兩種走法：\n",
    "        # 從上層索引值j-1或j兩種\n",
    "        for j in range(1, len(dp[i])-1):\n",
    "            # 要求最小權重，所以取最小的\n",
    "            dp[i][j] += min(dp[i-1][j-1], dp[i-1][j])\n",
    "    # 回傳金字塔底端的磚中，累計權重最小的\n",
    "    return(min(dp[len(dp)-1]))"
   ]
  },
  {
   "cell_type": "markdown",
   "metadata": {},
   "source": [
    "# 實測結果"
   ]
  },
  {
   "cell_type": "code",
   "execution_count": 2,
   "metadata": {},
   "outputs": [
    {
     "name": "stdout",
     "output_type": "stream",
     "text": [
      "15\n",
      "11\n",
      "0\n"
     ]
    }
   ],
   "source": [
    "print(min_path_total([[2],[4,4],[8,5,6],[4,2,6,2],[1,5,2,3,4]]))\n",
    "\n",
    "print(min_path_total([[2],[3,4],[6,5,7],[4,1,8,3]]))\n",
    "\n",
    "print(min_path_total([[0]]))"
   ]
  }
 ],
 "metadata": {
  "kernelspec": {
   "display_name": "Python 3",
   "language": "python",
   "name": "python3"
  },
  "language_info": {
   "codemirror_mode": {
    "name": "ipython",
    "version": 3
   },
   "file_extension": ".py",
   "mimetype": "text/x-python",
   "name": "python",
   "nbconvert_exporter": "python",
   "pygments_lexer": "ipython3",
   "version": "3.7.1"
  }
 },
 "nbformat": 4,
 "nbformat_minor": 4
}
