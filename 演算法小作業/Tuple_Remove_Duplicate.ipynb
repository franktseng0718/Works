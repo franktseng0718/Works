{
 "cells": [
  {
   "cell_type": "markdown",
   "metadata": {},
   "source": [
    "### 給定某元組a_tuple，回傳一個將a_tuple頭尾元素互換的元組"
   ]
  },
  {
   "cell_type": "code",
   "execution_count": 1,
   "metadata": {},
   "outputs": [],
   "source": [
    "def swap_head_and_tail(a_tuple):\n",
    "    if a_tuple == ():\n",
    "        return(a_tuple)\n",
    "    elif len(a_tuple) == 1:\n",
    "        return(a_tuple)\n",
    "    else:\n",
    "        l = []\n",
    "        for i in a_tuple:\n",
    "            l.append(i)\n",
    "        l[0],l[-1] = l[-1],l[0]\n",
    "        t = tuple(l)\n",
    "        return(t)"
   ]
  },
  {
   "cell_type": "markdown",
   "metadata": {},
   "source": [
    "### 實測結果"
   ]
  },
  {
   "cell_type": "code",
   "execution_count": 2,
   "metadata": {},
   "outputs": [
    {
     "name": "stdout",
     "output_type": "stream",
     "text": [
      "('four', 2.0, 3, '1')\n",
      "(5.0, ('2', '3', '4'), 1)\n"
     ]
    }
   ],
   "source": [
    "print(swap_head_and_tail((\"1\",2.0,3,\"four\")))\n",
    "print(swap_head_and_tail((1,(\"2\",\"3\",\"4\"),5.0)))"
   ]
  }
 ],
 "metadata": {
  "kernelspec": {
   "display_name": "Python 3",
   "language": "python",
   "name": "python3"
  },
  "language_info": {
   "codemirror_mode": {
    "name": "ipython",
    "version": 3
   },
   "file_extension": ".py",
   "mimetype": "text/x-python",
   "name": "python",
   "nbconvert_exporter": "python",
   "pygments_lexer": "ipython3",
   "version": "3.7.1"
  }
 },
 "nbformat": 4,
 "nbformat_minor": 2
}
