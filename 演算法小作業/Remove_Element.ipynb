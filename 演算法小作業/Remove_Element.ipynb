{
 "cells": [
  {
   "cell_type": "markdown",
   "metadata": {},
   "source": [
    "### 給定一個串列nums和val，「就地」移除nums中的指定值val(限制：不可以開新的list)，並回傳nums的新長度"
   ]
  },
  {
   "cell_type": "code",
   "execution_count": 1,
   "metadata": {},
   "outputs": [],
   "source": [
    "def remove_element(nums,val):\n",
    "    if nums == []:\n",
    "        return 0\n",
    "    elif val not in nums:\n",
    "        return len(nums)\n",
    "    else:\n",
    "        point = 0\n",
    "        for i in nums:\n",
    "            if i != val:\n",
    "                nums[point] = i\n",
    "                point += 1\n",
    "        del nums[point:]\n",
    "        return len(nums)"
   ]
  },
  {
   "cell_type": "markdown",
   "metadata": {},
   "source": [
    "### 實測結果"
   ]
  },
  {
   "cell_type": "code",
   "execution_count": 2,
   "metadata": {},
   "outputs": [
    {
     "name": "stdout",
     "output_type": "stream",
     "text": [
      "2 [2, 2]\n",
      "5 [0, 1, 3, 0, 4]\n"
     ]
    }
   ],
   "source": [
    "nums = [3,2,2,3]\n",
    "print(remove_element(nums,3),nums)\n",
    "\n",
    "nums = [0,1,2,2,3,0,4,2]\n",
    "print(remove_element(nums,2),nums)"
   ]
  }
 ],
 "metadata": {
  "kernelspec": {
   "display_name": "Python 3",
   "language": "python",
   "name": "python3"
  },
  "language_info": {
   "codemirror_mode": {
    "name": "ipython",
    "version": 3
   },
   "file_extension": ".py",
   "mimetype": "text/x-python",
   "name": "python",
   "nbconvert_exporter": "python",
   "pygments_lexer": "ipython3",
   "version": "3.7.1"
  }
 },
 "nbformat": 4,
 "nbformat_minor": 2
}
