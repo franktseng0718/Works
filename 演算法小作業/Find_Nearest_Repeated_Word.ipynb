{
 "cells": [
  {
   "cell_type": "markdown",
   "metadata": {},
   "source": [
    "### 輸入一個串列\n",
    "### 若串列中有重複的值，則會傳最近的一對重複值之距離\n",
    "### 否則回傳-1"
   ]
  },
  {
   "cell_type": "code",
   "execution_count": 1,
   "metadata": {},
   "outputs": [],
   "source": [
    "def find_nearest_repeated_word(lst):\n",
    "    dist = len(lst)\n",
    "    for i in range(len(lst)):\n",
    "        for j in range(i+1, len(lst)):\n",
    "            if lst[i] == lst[j]:\n",
    "                diff = abs(i-j)\n",
    "                if diff < dist:\n",
    "                    dist = diff\n",
    "    if dist == len(lst):\n",
    "        return -1\n",
    "    else:\n",
    "        return dist"
   ]
  },
  {
   "cell_type": "markdown",
   "metadata": {},
   "source": [
    "### 實測結果"
   ]
  },
  {
   "cell_type": "code",
   "execution_count": 2,
   "metadata": {},
   "outputs": [
    {
     "name": "stdout",
     "output_type": "stream",
     "text": [
      "2\n",
      "-1\n",
      "23\n"
     ]
    }
   ],
   "source": [
    "print(find_nearest_repeated_word([\"all\", \"work\", \"and\", \"no\", \"play\", \"makes\", \"for\", \"no\", \"work\", \"no\", \"fun\", \"and\", \"no\", \"results\"]))\n",
    "print(find_nearest_repeated_word([\"foo\", \"bar\", \"widget\", \"adnan\"]))\n",
    "print(find_nearest_repeated_word([\"pretracing\", \"warlikeness\", \"dalar\", \"hwa\", \"lub\", \"duraquara\", \"phenacite\", \"feil\", \"choletherapy\", \"kaempferol\", \"nonesthetical\", \"hereagain\", \"othertimes\", \"inamovability\", \"imperceptibly\", \"imparipinnate\", \"stridulatory\", \"uncambered\", \"skiey\", \"epichoric\", \"ferter\", \"endostraca\", \"bowlder\", \"commuted\", \"fantastication\", \"phlyctaenae\", \"mese\", \"lub\", \"nomadization\", \"redwings\", \"nonclaimable\", \"epoophoron\", \"poi\"]))"
   ]
  }
 ],
 "metadata": {
  "kernelspec": {
   "display_name": "Python 3",
   "language": "python",
   "name": "python3"
  },
  "language_info": {
   "codemirror_mode": {
    "name": "ipython",
    "version": 3
   },
   "file_extension": ".py",
   "mimetype": "text/x-python",
   "name": "python",
   "nbconvert_exporter": "python",
   "pygments_lexer": "ipython3",
   "version": "3.7.1"
  }
 },
 "nbformat": 4,
 "nbformat_minor": 2
}
