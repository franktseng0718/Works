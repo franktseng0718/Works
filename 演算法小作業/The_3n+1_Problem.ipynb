{
 "cells": [
  {
   "cell_type": "markdown",
   "metadata": {},
   "source": [
    "# 3n+1猜想演算法：\n",
    "### 1.輸入一個數值\n",
    "### 2.當這個數值等於1的時候停止，否則執行以下：\n",
    "### 2.1 若此數為奇數，則下一個數字為此數乘以3倍再加1\n",
    "### 2.2 若此數為偶數，則下一個數字為此數除以2"
   ]
  },
  {
   "cell_type": "markdown",
   "metadata": {},
   "source": [
    "### 3. 最後停止後，計算此數字列表的長度"
   ]
  },
  {
   "cell_type": "markdown",
   "metadata": {},
   "source": [
    "## 此函數接受兩個數字輸入(皆大於0小於一百萬)"
   ]
  },
  {
   "cell_type": "markdown",
   "metadata": {},
   "source": [
    "## 會回傳兩個數字之間(包含)的數字中"
   ]
  },
  {
   "cell_type": "markdown",
   "metadata": {},
   "source": [
    "## 對於該演算法得到的最長長度"
   ]
  },
  {
   "cell_type": "code",
   "execution_count": 1,
   "metadata": {},
   "outputs": [],
   "source": [
    "def get_largest_cycle(i, j):\n",
    "    counter = 1\n",
    "    maxLength = 1\n",
    "    if i > j:\n",
    "        i, j = j, i\n",
    "    for x in range(i, j + 1):\n",
    "        while x != 1:\n",
    "            if x % 2 == 1:\n",
    "                x = 3 * x + 1\n",
    "                counter += 1\n",
    "            else:\n",
    "                x /= 2\n",
    "                counter += 1\n",
    "        if counter >= maxLength:\n",
    "            maxLength = counter\n",
    "        counter = 1\n",
    "    return(maxLength)"
   ]
  },
  {
   "cell_type": "markdown",
   "metadata": {},
   "source": [
    "### 實測結果"
   ]
  },
  {
   "cell_type": "code",
   "execution_count": 2,
   "metadata": {},
   "outputs": [
    {
     "name": "stdout",
     "output_type": "stream",
     "text": [
      "20\n",
      "125\n",
      "89\n"
     ]
    }
   ],
   "source": [
    "print(get_largest_cycle(1,10))\n",
    "print(get_largest_cycle(100,200))\n",
    "print(get_largest_cycle(201,210))"
   ]
  }
 ],
 "metadata": {
  "kernelspec": {
   "display_name": "Python 3",
   "language": "python",
   "name": "python3"
  },
  "language_info": {
   "codemirror_mode": {
    "name": "ipython",
    "version": 3
   },
   "file_extension": ".py",
   "mimetype": "text/x-python",
   "name": "python",
   "nbconvert_exporter": "python",
   "pygments_lexer": "ipython3",
   "version": "3.7.1"
  }
 },
 "nbformat": 4,
 "nbformat_minor": 2
}
