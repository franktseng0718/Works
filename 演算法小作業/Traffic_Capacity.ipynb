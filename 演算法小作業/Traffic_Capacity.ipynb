{
 "cells": [
  {
   "cell_type": "code",
   "execution_count": null,
   "metadata": {},
   "outputs": [],
   "source": [
    "''' \n",
    "故事引導：\n",
    "    有一個城市，其中有各種大小的路和許多交通路口\n",
    "    每一條路都有一個特定的交通流量\n",
    "    由於預算赤字，需要盡可能的關閉馬路\n",
    "    但又不能切斷任何一個十字路口\n",
    "    因此要找出符合上述條件的數個主要交通幹道\n",
    "    並且這愈「主要」愈好\n",
    "    也就是說，要找出一組交通幹道\n",
    "    使得其中流量最小的那條路，流量越大越好\n",
    "'''"
   ]
  },
  {
   "cell_type": "markdown",
   "metadata": {},
   "source": [
    "### 給定多個list代表城市中每一條路\n",
    "### 其中元素分別代表兩個十字路口端點和該路流量\n",
    "### 先建立依照路徑建立該城市(一個Graph)\n",
    "### 是2Darray，內容由Intersection物件組成"
   ]
  },
  {
   "cell_type": "code",
   "execution_count": 2,
   "metadata": {},
   "outputs": [],
   "source": [
    "class Intersection:\n",
    "    def __init__(self, label):\n",
    "        self.label = label\n",
    "        self.candidate = None #Candidate mst edge\n",
    "        self.intree = False #Is the intersection in the tree yet?\n",
    "        self.parent = None #The intersection discover me\n",
    "        self.roads = [] #Roads in Adjacency List\n",
    "\n",
    "class Road:\n",
    "    def __init__(self, source, destination, capacity):\n",
    "        self.source = source\n",
    "        self.destination = destination\n",
    "        self.capacity = capacity\n",
    "\n",
    "def initial_city(n:int, road_list:list)->list:\n",
    "    city = []\n",
    "    for i in range(n):\n",
    "        city.append(Intersection(i))\n",
    "    for r in road_list:\n",
    "        if 0 <= r[0] < n and 0 <= r[1] < n:\n",
    "            city[r[0]].roads.append(Road(city[r[0]], city[r[1]], r[2]))\n",
    "            city[r[1]].roads.append(Road(city[r[1]], city[r[0]], r[2]))\n",
    "    return city"
   ]
  },
  {
   "cell_type": "markdown",
   "metadata": {},
   "source": [
    "# 給定一個城市(上述方法生成的圖)\n",
    "# 找出最大生成樹(Maximum Spanning Tree)\n",
    "# 回傳該樹中最小的權重"
   ]
  },
  {
   "cell_type": "code",
   "execution_count": 3,
   "metadata": {},
   "outputs": [],
   "source": [
    "def traffic_capacity(c):\n",
    "    mst = []\n",
    "    for i in range(len(c)):\n",
    "        mst.append(Intersection(i))\n",
    "    v = c[0]\n",
    "    min_cap = float('inf')\n",
    "    while not v.intree:\n",
    "        v.intree = True\n",
    "        for e in v.roads:\n",
    "            if not e.destination.intree:\n",
    "                if e.destination.candidate is None or e.destination.candidate.capacity < e.capacity:\n",
    "                    e.destination.candidate = e\n",
    "                    e.destination.parent = v\n",
    "        dist = 0\n",
    "        mst_edge = None\n",
    "        for i in c:\n",
    "            if not i.intree and i.candidate is not None and dist < i.candidate.capacity:\n",
    "                dist = i.candidate.capacity\n",
    "                mst_edge = i.candidate\n",
    "        if mst_edge is not None:\n",
    "            s = mst_edge.source.label\n",
    "            d = mst_edge.destination.label\n",
    "            w = mst_edge.capacity\n",
    "            mst[s].roads.append(Road(mst[s], mst[d], w))\n",
    "            mst[d].roads.append(Road(mst[d], mst[s], w))\n",
    "            v = mst_edge.destination\n",
    "            if mst_edge.capacity < min_cap:\n",
    "                min_cap = mst_edge.capacity\n",
    "    return min_cap"
   ]
  },
  {
   "cell_type": "markdown",
   "metadata": {},
   "source": [
    "# 實測結果"
   ]
  },
  {
   "cell_type": "code",
   "execution_count": 4,
   "metadata": {},
   "outputs": [
    {
     "name": "stdout",
     "output_type": "stream",
     "text": [
      "20\n",
      "3\n",
      "50\n"
     ]
    }
   ],
   "source": [
    "print(traffic_capacity(initial_city(3, [[0,1,10],[0,1,20],[0,0,30]])))\n",
    "\n",
    "print(traffic_capacity(initial_city(5, [[0,1,1],[3,1,2],[1,2,3],[2,3,4],[0,2,5]])))\n",
    "\n",
    "print(traffic_capacity(initial_city(7, [[0,1,50],[0,2,60],[1,3,120],[1,4,90],[2,5,50],[3,5,80],[3,6,70],[4,6,40],[5,6,140]])))"
   ]
  }
 ],
 "metadata": {
  "kernelspec": {
   "display_name": "Python 3",
   "language": "python",
   "name": "python3"
  },
  "language_info": {
   "codemirror_mode": {
    "name": "ipython",
    "version": 3
   },
   "file_extension": ".py",
   "mimetype": "text/x-python",
   "name": "python",
   "nbconvert_exporter": "python",
   "pygments_lexer": "ipython3",
   "version": "3.7.1"
  }
 },
 "nbformat": 4,
 "nbformat_minor": 2
}
