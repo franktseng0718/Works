{
 "cells": [
  {
   "cell_type": "markdown",
   "metadata": {},
   "source": [
    "### 故事背景：某國家有n個城市以及數條連通城市間的高速公路\n",
    "### 每條公路都連接了某2個城市\n",
    "### 交通局正在考慮新興建一條公路，而他們手上有幾個方案\n",
    "### 欲找出最好的方案，使得興建該公路後\n",
    "### 比起其他方案，該方案會使得\n",
    "### 城市間的來往改善最多\n",
    "### 也就是比起興建其他方案的公路\n",
    "### 該方案城市間的總駕駛距離最短"
   ]
  },
  {
   "cell_type": "markdown",
   "metadata": {},
   "source": [
    "# 將該城市想成一個有權無向圖，以下為定義"
   ]
  },
  {
   "cell_type": "code",
   "execution_count": 1,
   "metadata": {},
   "outputs": [],
   "source": [
    "# define cities\n",
    "class GraphVertex:\n",
    "        def __init__(self, label):\n",
    "            self.label = label # the name of the city\n",
    "            self.edges = [] # highways in adjacency list"
   ]
  },
  {
   "cell_type": "code",
   "execution_count": 2,
   "metadata": {},
   "outputs": [],
   "source": [
    "# define highways\n",
    "class GraphEdge:\n",
    "        def __init__(self, source, destination, weight):\n",
    "            self.source = source # highway source, a city\n",
    "            self.destination = destination # highway destination, a city\n",
    "            self.weight = weight # the distance of the highway"
   ]
  },
  {
   "cell_type": "markdown",
   "metadata": {},
   "source": [
    "# 依照給定的城市公路連接關係(「h」, the adjacency list)\n",
    "# 畫出連接矩陣(adjacency matrix)「M」\n",
    "# 使用迴圈每次看一個方案(興建該方案的新公路)\n",
    "# 使用floyd warshall演算法，更新矩陣M\n",
    "# 使M的元素代表對應城市間來往之最短距離\n",
    "# 加總M的所有元素，即為該方案的2倍總駕駛距離\n",
    "# 最後看哪個方案總距離短，回傳該方案\n",
    "# 回傳格式：「[城市1, 城市2, 該公路距離(權重)]」"
   ]
  },
  {
   "cell_type": "code",
   "execution_count": 3,
   "metadata": {},
   "outputs": [],
   "source": [
    "def find_best_proposal(h, p, n):\n",
    "    min_d = float('inf')\n",
    "    p_candidate = [0, 0, 0]\n",
    "    for z in range(len(p)):\n",
    "        M = [x[:] for x in [[float('inf')]*n]*n]\n",
    "        graph = []\n",
    "        for i in range(n):\n",
    "            M[i][i] = 0\n",
    "            graph.append(GraphVertex(i))\n",
    "        for e in h:\n",
    "            if 0 <= e[0] < n and 0 <= e[1] < n:\n",
    "                graph[e[0]].edges.append(GraphEdge(graph[e[0]], graph[e[1]], e[2]))\n",
    "                graph[e[1]].edges.append(GraphEdge(graph[e[1]], graph[e[0]], e[2]))\n",
    "        for v in graph:\n",
    "            i = v.label\n",
    "            for e in v.edges:\n",
    "                j = e.destination.label\n",
    "                M[i][j] = e.weight\n",
    "        graph[p[z][0]].edges.append(GraphEdge(graph[p[z][0]], graph[p[z][1]], p[z][2]))\n",
    "        graph[p[z][1]].edges.append(GraphEdge(graph[p[z][1]], graph[p[z][0]], p[z][2]))\n",
    "        M[p[z][0]][p[z][1]] = p[z][2]\n",
    "        M[p[z][1]][p[z][0]] = p[z][2]\n",
    "        for k in range(n):\n",
    "            for i in range(n):\n",
    "                for j in range(n):\n",
    "                    if M[i][k] != float('inf') and M[k][j] != float('inf'):\n",
    "                        M[i][j] = min(M[i][j], M[i][k] + M[k][j])\n",
    "        l = [0] * n\n",
    "        for b in range(n):\n",
    "            l[b] = sum(M[b])\n",
    "        if sum(l) < min_d:\n",
    "            min_d = sum(l)\n",
    "            p_candidate = p[z]\n",
    "    return(p_candidate)"
   ]
  },
  {
   "cell_type": "code",
   "execution_count": 5,
   "metadata": {},
   "outputs": [
    {
     "name": "stdout",
     "output_type": "stream",
     "text": [
      "[4, 0, 20]\n",
      "[4, 0, 37]\n",
      "[0, 2, 15]\n"
     ]
    }
   ],
   "source": [
    "highways = [[0, 1, 3498], [1, 2, 5589], [2, 3, 2131], [3, 4, 277], [4, 5, 7148], [2, 5, 7337], [5, 1, 8379], [5, 0, 5562]]\n",
    "proposals = [[4, 0, 20], [2, 4, 50], [1, 3, 48]]\n",
    "print(find_best_proposal(highways, proposals, 6))\n",
    "\n",
    "highways = [[0, 1, 2720], [1, 2, 3842], [2, 3, 113], [3, 4, 2418], [4, 5, 7213], [3, 0, 4965], [0, 5, 3848], [1, 5, 9469], [2, 5, 8578]]\n",
    "proposals = [[4, 2, 25], [3, 1, 6], [4, 0, 37]]\n",
    "print(find_best_proposal(highways, proposals, 6))\n",
    "\n",
    "highways = [[0, 1, 7825], [1, 2, 2537], [2, 3, 2749], [3, 4, 1706], [4, 5, 3725], [5, 6, 3773], [2, 4, 8566], [0, 5, 9402], [6, 2, 8007]]\n",
    "proposals = [[5, 1, 24], [0, 2, 15], [6, 1, 34]]\n",
    "print(find_best_proposal(highways, proposals, 7))"
   ]
  }
 ],
 "metadata": {
  "kernelspec": {
   "display_name": "Python 3",
   "language": "python",
   "name": "python3"
  },
  "language_info": {
   "codemirror_mode": {
    "name": "ipython",
    "version": 3
   },
   "file_extension": ".py",
   "mimetype": "text/x-python",
   "name": "python",
   "nbconvert_exporter": "python",
   "pygments_lexer": "ipython3",
   "version": "3.7.1"
  }
 },
 "nbformat": 4,
 "nbformat_minor": 2
}
