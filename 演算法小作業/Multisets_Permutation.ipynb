{
 "cells": [
  {
   "cell_type": "markdown",
   "metadata": {},
   "source": [
    "# 使用「回溯法」(backtracking)的框架\n",
    "# 求出給定「不盡相異物」集合的所有直線排列狀況"
   ]
  },
  {
   "cell_type": "markdown",
   "metadata": {},
   "source": [
    "### 以下為回溯法的框架："
   ]
  },
  {
   "cell_type": "code",
   "execution_count": 1,
   "metadata": {},
   "outputs": [],
   "source": [
    "def do_backtrack(a:list, inputs:list):\n",
    "    c = []\n",
    "    if (is_a_solution(a, inputs)):\n",
    "        process_solution(a, inputs)\n",
    "    else:\n",
    "        construct_candidate(a, inputs, c)\n",
    "        for i in c:\n",
    "            a.append(i)\n",
    "            do_backtrack(a, inputs)\n",
    "            a.pop() \n",
    "\n",
    "def process_solution(a:list, inputs:list):\n",
    "    solution.append(a.copy())"
   ]
  },
  {
   "cell_type": "markdown",
   "metadata": {},
   "source": [
    "### 判斷目前的解向量\"a\"是否為可能解：用長度判斷"
   ]
  },
  {
   "cell_type": "code",
   "execution_count": 2,
   "metadata": {},
   "outputs": [],
   "source": [
    "def is_a_solution(a, per):\n",
    "    if len(a) == len(per) and sorted(a) == sorted(per):\n",
    "        return True\n",
    "    else:\n",
    "        return False"
   ]
  },
  {
   "cell_type": "markdown",
   "metadata": {},
   "source": [
    "## 以下為核心的子程式！\n",
    "### 用來產生下一個\n",
    "### 添加到解向量中的候選解的程式\n",
    "### 所產生的候選必須考慮目前解向量的答案\n",
    "### 依照問題敘述中的規則"
   ]
  },
  {
   "cell_type": "code",
   "execution_count": 3,
   "metadata": {},
   "outputs": [
    {
     "data": {
      "text/plain": [
       "'\\n由於是不盡相異物排列\\n需要考慮給定的集合裡面含有的元素，以及其存量\\n比如[1,1,2,2]，就只有1和2兩種元素\\n並且每個都各只有兩個，用完就沒了\\n以下程式只會由給定的set中判斷可能添加的元素\\n在此為1,2兩種元素\\n並且依照目前的解向量a，看哪些元素還未被用完\\n例如目前a = [1,1]的話，就會判斷只剩2能加\\n所以候選解只會產生2\\n但若a = [1,2]，候選解就有1和2兩種\\n最後，將所有可能的候選解添加到解向量a中\\n直到a的長度達到給定的集合長度，這裡是4\\n就會視之為一組解\\n'"
      ]
     },
     "execution_count": 3,
     "metadata": {},
     "output_type": "execute_result"
    }
   ],
   "source": [
    "\"\"\"\n",
    "由於是不盡相異物排列\n",
    "需要考慮給定的集合裡面含有的元素，以及其存量\n",
    "比如[1,1,2,2]，就只有1和2兩種元素\n",
    "並且每個都各只有兩個，用完就沒了\n",
    "以下程式只會由給定的set中判斷可能添加的元素\n",
    "在此為1,2兩種元素\n",
    "並且依照目前的解向量a，看哪些元素還未被用完\n",
    "例如目前a = [1,1]的話，就會判斷只剩2能加\n",
    "所以候選解只會產生2\n",
    "但若a = [1,2]，候選解就有1和2兩種\n",
    "最後，將所有可能的候選解添加到解向量a中\n",
    "直到a的長度達到給定的集合長度，這裡是4\n",
    "就會視之為一組解\n",
    "\"\"\""
   ]
  },
  {
   "cell_type": "code",
   "execution_count": 4,
   "metadata": {},
   "outputs": [],
   "source": [
    "def construct_candidate(a, per, c):\n",
    "    s = list(set(per.copy()))\n",
    "    for i in range(len(s)):\n",
    "        times = per.count(s[i])\n",
    "        count = a.count(s[i])\n",
    "        if count < times:\n",
    "            c.append(s[i])"
   ]
  },
  {
   "cell_type": "markdown",
   "metadata": {},
   "source": [
    "# 實測結果"
   ]
  },
  {
   "cell_type": "code",
   "execution_count": 5,
   "metadata": {},
   "outputs": [
    {
     "name": "stdout",
     "output_type": "stream",
     "text": [
      "[[1, 1, 2, 2], [1, 2, 1, 2], [1, 2, 2, 1], [2, 1, 1, 2], [2, 1, 2, 1], [2, 2, 1, 1]]\n",
      "[[1, 1, 1, 1]]\n",
      "[[1, 2, 3], [1, 3, 2], [2, 1, 3], [2, 3, 1], [3, 1, 2], [3, 2, 1]]\n"
     ]
    }
   ],
   "source": [
    "solution = []\n",
    "do_backtrack([],[1, 2, 2, 1])\n",
    "print(sorted(solution))\n",
    "\n",
    "solution = []\n",
    "do_backtrack([],[1, 1, 1, 1])\n",
    "print(sorted(solution))\n",
    "\n",
    "solution = []\n",
    "do_backtrack([],[1, 2, 3])\n",
    "print(sorted(solution))"
   ]
  }
 ],
 "metadata": {
  "kernelspec": {
   "display_name": "Python 3",
   "language": "python",
   "name": "python3"
  },
  "language_info": {
   "codemirror_mode": {
    "name": "ipython",
    "version": 3
   },
   "file_extension": ".py",
   "mimetype": "text/x-python",
   "name": "python",
   "nbconvert_exporter": "python",
   "pygments_lexer": "ipython3",
   "version": "3.7.1"
  }
 },
 "nbformat": 4,
 "nbformat_minor": 2
}
