{
 "cells": [
  {
   "cell_type": "markdown",
   "metadata": {},
   "source": [
    "### 給定一個由數個路由器(Router)及數條纜線(Cable)組成的網路(Network)\n",
    "### 給定一個起點路由器s和一個終點路由器t\n",
    "### 求出s到t之間延遲(latency)最小的路徑，也就是最短路徑\n",
    "### 並且回傳總延遲(total_latency)，亦即最短路徑的長度\n",
    "### 若s無法連到t，回傳\"unreachable\""
   ]
  },
  {
   "cell_type": "code",
   "execution_count": 1,
   "metadata": {},
   "outputs": [],
   "source": [
    "# define routers\n",
    "class Router:\n",
    "    def __init__(self, label):\n",
    "        self.label = label # the name of the router\n",
    "        self.total_latency = float('inf') # the sum of latency from start router\n",
    "        self.candidate = None # Candidate spst edge\n",
    "        self.intree = False # Is the router in the tree yet?\n",
    "        self.parent = None # The router discover me\n",
    "        self.cables = [] # Cables in Adjacency List"
   ]
  },
  {
   "cell_type": "code",
   "execution_count": 2,
   "metadata": {},
   "outputs": [],
   "source": [
    "# define cables\n",
    "class Cable:\n",
    "    def __init__(self, source, destination, latency):\n",
    "        self.source = source # cable source, a router\n",
    "        self.destination = destination # cable destination, a router\n",
    "        self.latency = latency # the cable's latency"
   ]
  },
  {
   "cell_type": "code",
   "execution_count": 3,
   "metadata": {},
   "outputs": [],
   "source": [
    "# build the network\n",
    "def initial_network(n:int, cable_list:list)->list:\n",
    "    # given n routers\n",
    "    # with a cable list which contains information about each cable\n",
    "    network = []\n",
    "    for i in range(n):\n",
    "        network.append(Router(i))\n",
    "    if cable_list is not None:\n",
    "        for c in cable_list:\n",
    "            if 0 <= c[0] < n and 0 <= c[1] < n:\n",
    "                network[c[0]].cables.append(Cable(network[c[0]], network[c[1]], c[2]))\n",
    "                network[c[1]].cables.append(Cable(network[c[1]], network[c[0]], c[2]))\n",
    "    return network"
   ]
  },
  {
   "cell_type": "markdown",
   "metadata": {},
   "source": [
    "# 求出最短路徑(總延遲)---使用Dijkstra演算法"
   ]
  },
  {
   "cell_type": "code",
   "execution_count": 4,
   "metadata": {},
   "outputs": [],
   "source": [
    "def lowest_latency(nw, s, t):\n",
    "    v = nw[s]\n",
    "    v.total_latency = 0\n",
    "    while not v.intree:\n",
    "        v.intree = True\n",
    "        for e in v.cables:\n",
    "            if not e.destination.intree:\n",
    "                if e.destination.total_latency > (e.latency + v.total_latency):\n",
    "                    e.destination.total_latency = e.latency + v.total_latency\n",
    "                    e.destination.candidate = e\n",
    "                    e.destination.parent = v\n",
    "        laten = float('inf')\n",
    "        spst_edge = None\n",
    "        for i in nw:\n",
    "            if not i.intree and laten > i.total_latency:\n",
    "                laten = i.total_latency\n",
    "                spst_edge = i.candidate\n",
    "        if spst_edge is not None:\n",
    "            v = spst_edge.destination\n",
    "    if nw[t].intree == False:\n",
    "        return('unreachable')\n",
    "    else:\n",
    "        return(str(nw[t].total_latency))"
   ]
  },
  {
   "cell_type": "markdown",
   "metadata": {},
   "source": [
    "# 實作結果"
   ]
  },
  {
   "cell_type": "code",
   "execution_count": 5,
   "metadata": {},
   "outputs": [
    {
     "name": "stdout",
     "output_type": "stream",
     "text": [
      "150\n",
      "unreachable\n",
      "120\n"
     ]
    }
   ],
   "source": [
    "print(lowest_latency(initial_network(3, [[0,1,100],[0,2,200],[1,2,50]]), 2, 0))\n",
    "\n",
    "print(lowest_latency(initial_network(2, None), 0, 1))\n",
    "\n",
    "print(lowest_latency(initial_network(6, [[0,1,50],[2,1,70],[0,2,150]]), 0, 2))"
   ]
  }
 ],
 "metadata": {
  "kernelspec": {
   "display_name": "Python 3",
   "language": "python",
   "name": "python3"
  },
  "language_info": {
   "codemirror_mode": {
    "name": "ipython",
    "version": 3
   },
   "file_extension": ".py",
   "mimetype": "text/x-python",
   "name": "python",
   "nbconvert_exporter": "python",
   "pygments_lexer": "ipython3",
   "version": "3.7.1"
  }
 },
 "nbformat": 4,
 "nbformat_minor": 2
}
