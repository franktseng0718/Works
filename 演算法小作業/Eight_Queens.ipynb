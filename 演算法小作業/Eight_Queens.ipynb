{
 "cells": [
  {
   "cell_type": "markdown",
   "metadata": {},
   "source": [
    "# 使用「回溯法」(backtracking)的框架\n",
    "# 求出各種大小的棋盤中\n",
    "# 「八皇后問題」的可能情形數"
   ]
  },
  {
   "cell_type": "code",
   "execution_count": 1,
   "metadata": {},
   "outputs": [],
   "source": [
    "# 八皇后問題：如何在8*8的西洋棋上，放上八個皇后\n",
    "# 使得彼此不會威脅到對方的問題\n",
    "# 皇后是西洋棋最強力的一枚棋子\n",
    "# 可以上下、左右、兩條對角線方向\n",
    "# 無限格的吃和移動"
   ]
  },
  {
   "cell_type": "markdown",
   "metadata": {},
   "source": [
    "### 以下為回溯法的框架："
   ]
  },
  {
   "cell_type": "code",
   "execution_count": 2,
   "metadata": {},
   "outputs": [],
   "source": [
    "def do_backtrack(a:list, inputs:list):\n",
    "    c = []\n",
    "    if (is_a_solution(a, inputs)):\n",
    "        process_solution(a, inputs)\n",
    "    else:\n",
    "        construct_candidate(a, inputs, c)\n",
    "        for i in c:\n",
    "            a.append(i)\n",
    "            do_backtrack(a, inputs)\n",
    "            a.pop() "
   ]
  },
  {
   "cell_type": "markdown",
   "metadata": {},
   "source": [
    "### 判斷目前的解向量\"a\"是否為可能解：用長度判斷"
   ]
  },
  {
   "cell_type": "code",
   "execution_count": 3,
   "metadata": {},
   "outputs": [],
   "source": [
    "def is_a_solution(a, inputs):\n",
    "    return len(a) == len(inputs)"
   ]
  },
  {
   "cell_type": "markdown",
   "metadata": {},
   "source": [
    "## 以下為核心的子程式！\n",
    "### 用來產生下一個\n",
    "### 添加到解向量中的候選解的程式\n",
    "### 所產生的候選必須考慮目前解向量的答案\n",
    "### 依照問題敘述中的規則"
   ]
  },
  {
   "cell_type": "code",
   "execution_count": 8,
   "metadata": {},
   "outputs": [
    {
     "data": {
      "text/plain": [
       "'\\n首先對於每一列來說\\n都有n個可以放的格子，n為邊長格數\\n對於每個格子，去檢查是否有和目前a中的元素\\n也就是「目前前幾列中，放在棋盤上的皇后們」\\n有互相威脅到的情形？\\n檢查對角方向、以及水平垂直方向的威脅\\n若有衝突到，就不可以放，不納入候選解\\n\\n若棋盤太大，可能造成組合爆炸\\n所以若是偶數格的棋盤\\n就砍一半大小計算，減輕計算負荷\\n最後再利用對稱的性質，將解的數量乘以兩倍回來\\n'"
      ]
     },
     "execution_count": 8,
     "metadata": {},
     "output_type": "execute_result"
    }
   ],
   "source": [
    "\"\"\"\n",
    "首先對於每一列來說\n",
    "都有n個可以放的格子，n為邊長格數\n",
    "對於每個格子，去檢查是否有和目前a中的元素\n",
    "也就是「目前前幾列中，放在棋盤上的皇后們」\n",
    "有互相威脅到的情形？\n",
    "檢查對角方向、以及水平垂直方向的威脅\n",
    "若有衝突到，就不可以放，不納入候選解\n",
    "\n",
    "若棋盤太大，可能造成組合爆炸\n",
    "所以若是偶數格的棋盤\n",
    "就砍一半大小計算，減輕計算負荷\n",
    "最後再利用對稱的性質，將解的數量乘以兩倍回來\n",
    "\"\"\""
   ]
  },
  {
   "cell_type": "code",
   "execution_count": 5,
   "metadata": {},
   "outputs": [],
   "source": [
    "def construct_candidate(a, inputs, c):\n",
    "    k = len(a)\n",
    "    n = len(inputs)\n",
    "    if k == 1 and n & 1 == 0: #這個部分是若棋盤邊長為偶數\n",
    "        n //= 2 #就只取一半來看，因為另一半邊會對稱\n",
    "    # ↑會這麼做是如果棋盤太大，會排列組合爆炸，要跑很久很久\n",
    "    for i in range(n):\n",
    "        legal_move = True\n",
    "        for j in range(k):\n",
    "            if abs(k-j) == abs(i-a[j]): #判斷對角方向的威脅\n",
    "                legal_move = False\n",
    "            if i == a[j]: #判斷水平垂直方向的威脅\n",
    "                legal_move = False\n",
    "        if legal_move:\n",
    "            c.append(i)"
   ]
  },
  {
   "cell_type": "markdown",
   "metadata": {},
   "source": [
    "### 若該解向量a為正解，則可能情形+1\n",
    "### 又請記得偶數情形下，棋盤將被對半砍\n",
    "### 因此要考慮對稱的情況，總共要 * 2\n",
    "### 也就是每次都要額外+1"
   ]
  },
  {
   "cell_type": "code",
   "execution_count": 6,
   "metadata": {},
   "outputs": [],
   "source": [
    "def process_solution(a, inputs):\n",
    "    global solution_count\n",
    "    solution_count += 1\n",
    "    if len(inputs) & 1 == 0:\n",
    "        solution_count += 1"
   ]
  },
  {
   "cell_type": "markdown",
   "metadata": {},
   "source": [
    "# 實測結果"
   ]
  },
  {
   "cell_type": "code",
   "execution_count": 7,
   "metadata": {},
   "outputs": [
    {
     "name": "stdout",
     "output_type": "stream",
     "text": [
      "92\n",
      "2\n",
      "4\n"
     ]
    }
   ],
   "source": [
    "solution_count = 0\n",
    "n = 8\n",
    "do_backtrack([],[0]*n)\n",
    "print(solution_count)\n",
    "\n",
    "solution_count = 0\n",
    "n = 4\n",
    "do_backtrack([],[0]*n)\n",
    "print(solution_count)\n",
    "\n",
    "solution_count = 0\n",
    "n = 6\n",
    "do_backtrack([],[0]*n)\n",
    "print(solution_count)"
   ]
  }
 ],
 "metadata": {
  "kernelspec": {
   "display_name": "Python 3",
   "language": "python",
   "name": "python3"
  },
  "language_info": {
   "codemirror_mode": {
    "name": "ipython",
    "version": 3
   },
   "file_extension": ".py",
   "mimetype": "text/x-python",
   "name": "python",
   "nbconvert_exporter": "python",
   "pygments_lexer": "ipython3",
   "version": "3.7.1"
  }
 },
 "nbformat": 4,
 "nbformat_minor": 2
}
