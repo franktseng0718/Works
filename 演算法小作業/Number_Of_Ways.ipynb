{
 "cells": [
  {
   "cell_type": "markdown",
   "metadata": {},
   "source": [
    "### 給定一個n * m的矩形，n為列數，m為行數。使用\n",
    "# 動態規劃(Dynamic Programming)\n",
    "### 的技巧，算出由矩陣左上角走到右下角的走法數量。\n",
    "## 規定只能「往下」或「往右」走！"
   ]
  },
  {
   "cell_type": "code",
   "execution_count": 1,
   "metadata": {},
   "outputs": [],
   "source": [
    "def number_of_ways(n, m):\n",
    "    # 設一個n*m矩陣，元素都初始化為1\n",
    "    matrix = [x[:] for x in [[1] * m] * n]\n",
    "    # 如果是n*1或1*m的長條，只會有一種走法\n",
    "    if n == 1 or m == 1:\n",
    "        return(1)\n",
    "    # 其他矩形的話，由於最上一列和最左一行的格子都只有一種走法\n",
    "    # 所以我們直接從[1, 1]這格開始考慮，一路考慮到右下角格。\n",
    "    # 所以考慮的範圍是一個(n-1)*(m-1)的矩陣\n",
    "    # 對於每一格，都可以從上方格或左邊格走到\n",
    "    # 所以到達這格的總走法數量，就是\n",
    "    # 走到上方格的走法數+走到左邊格的走法數\n",
    "    else:\n",
    "        for i in range(1, n):\n",
    "            for j in range(1, m):\n",
    "                matrix[i][j] = matrix[i-1][j] + matrix[i][j-1]\n",
    "        return(matrix[n-1][m-1])\n",
    "    # 最後右下角格的數字就是所求的總走法數！"
   ]
  },
  {
   "cell_type": "markdown",
   "metadata": {},
   "source": [
    "# 實測結果"
   ]
  },
  {
   "cell_type": "code",
   "execution_count": 2,
   "metadata": {},
   "outputs": [
    {
     "name": "stdout",
     "output_type": "stream",
     "text": [
      "70\n",
      "1\n",
      "4457400\n"
     ]
    }
   ],
   "source": [
    "print(number_of_ways(5,5))\n",
    "\n",
    "print(number_of_ways(1,5))\n",
    "\n",
    "print(number_of_ways(12,15))"
   ]
  }
 ],
 "metadata": {
  "kernelspec": {
   "display_name": "Python 3",
   "language": "python",
   "name": "python3"
  },
  "language_info": {
   "codemirror_mode": {
    "name": "ipython",
    "version": 3
   },
   "file_extension": ".py",
   "mimetype": "text/x-python",
   "name": "python",
   "nbconvert_exporter": "python",
   "pygments_lexer": "ipython3",
   "version": "3.7.1"
  }
 },
 "nbformat": 4,
 "nbformat_minor": 2
}
