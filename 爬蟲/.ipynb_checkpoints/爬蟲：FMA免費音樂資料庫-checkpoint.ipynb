{
 "cells": [
  {
   "cell_type": "code",
   "execution_count": 1,
   "metadata": {},
   "outputs": [],
   "source": [
    "import requests\n",
    "from bs4 import BeautifulSoup\n",
    "import os"
   ]
  },
  {
   "cell_type": "code",
   "execution_count": null,
   "metadata": {},
   "outputs": [],
   "source": [
    "times = 27\n",
    "while times < 51:\n",
    "    try:\n",
    "        first = 200 * times - 199\n",
    "        os.chdir('D:\\\\')\n",
    "        os.mkdir('./Music_' + str(first) + '_to_' + str(first + 199))\n",
    "        os.chdir('D:/Music_' + str(first) + '_to_' + str(first + 199))\n",
    "        url = \"https://freemusicarchive.org/search/?adv=1&search-genre=Blues%2CElectronic%2CHip-Hop%2CJazz%2CRock%2CClassical%2CExperimental%2CInstrumental%2COld-Time%2FHistoric%2CSoul-RnB%2CCountry%2CFolk%2CInternational%2CPop%2CSpoken&pageSize=200&sort=_score&d=0&page=\" + str(times)\n",
    "        r = requests.get(url)\n",
    "        soup = BeautifulSoup(r.text, \"html.parser\")\n",
    "        download= soup.select('a.icn-arrow')\n",
    "        title = soup.select('span.ptxt-track')[1:]\n",
    "        name = open('音樂名稱' + str(first) + '_' + str(first + 199) + '.txt', 'w')\n",
    "        for i in range(len(download)):\n",
    "            geturl = download[i]['data-url'].replace(\"downloadOverlay\", \"download\")\n",
    "            response = requests.get(geturl).content\n",
    "            songname = title[i].text.strip('\\n ')\n",
    "            if i + first < 10:\n",
    "                if '/' in songname:\n",
    "                    songname = songname.replace('/', '')\n",
    "                if '?' in songname:\n",
    "                    songname = songname.replace('?', '')\n",
    "                if '\"' in songname:\n",
    "                    songname = songname.replace('\"', '')\n",
    "                if ':' in songname:\n",
    "                    songname = songname.replace(':', '')\n",
    "                try:\n",
    "                    music = open('0' + str(i + first) + '_' + songname + '.mp3', 'wb')\n",
    "                except:\n",
    "                    music = open('0' + str(i + first) + '_' + '標題有問題.mp3', 'wb')\n",
    "                    print(songname)\n",
    "            else:\n",
    "                if '/' in songname:\n",
    "                    songname = songname.replace('/', '')\n",
    "                if '?' in songname:\n",
    "                    songname = songname.replace('?', '')\n",
    "                if '\"' in songname:\n",
    "                    songname = songname.replace('\"', '')\n",
    "                if ':' in songname:\n",
    "                    songname = songname.replace(':', '')\n",
    "                try:\n",
    "                    music = open(str(i + first) + '_' + songname + '.mp3', 'wb')\n",
    "                except:\n",
    "                    music = open(str(i + first) + '_' + '標題有問題.mp3', 'wb')\n",
    "                    print(songname)\n",
    "            music.write(response)\n",
    "            music.close()\n",
    "            if i + first < 10:\n",
    "                name.write('0' + str(i + first) + '. ' + songname.encode(\"utf8\").decode(\"cp950\", \"ignore\") + '\\n')\n",
    "            else:\n",
    "                name.write(str(i + first) + '. ' + songname.encode(\"utf8\").decode(\"cp950\", \"ignore\") + '\\n')\n",
    "        name.close()\n",
    "        times += 1\n",
    "    except:\n",
    "        print(times)\n",
    "        break"
   ]
  }
 ],
 "metadata": {
  "kernelspec": {
   "display_name": "Python 3",
   "language": "python",
   "name": "python3"
  },
  "language_info": {
   "codemirror_mode": {
    "name": "ipython",
    "version": 3
   },
   "file_extension": ".py",
   "mimetype": "text/x-python",
   "name": "python",
   "nbconvert_exporter": "python",
   "pygments_lexer": "ipython3",
   "version": "3.8.5"
  }
 },
 "nbformat": 4,
 "nbformat_minor": 2
}
