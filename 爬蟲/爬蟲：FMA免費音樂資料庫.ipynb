{
 "cells": [
  {
   "cell_type": "code",
   "execution_count": 1,
   "metadata": {},
   "outputs": [],
   "source": [
    "import requests\n",
    "from bs4 import BeautifulSoup\n",
    "import os"
   ]
  },
  {
   "cell_type": "code",
   "execution_count": 2,
   "metadata": {},
   "outputs": [
    {
     "name": "stdout",
     "output_type": "stream",
     "text": [
      "請輸入這是第幾次:6\n"
     ]
    }
   ],
   "source": [
    "times = input(\"請輸入這是第幾次:\")"
   ]
  },
  {
   "cell_type": "code",
   "execution_count": 3,
   "metadata": {},
   "outputs": [],
   "source": [
    "first = 200 * int(times) - 199"
   ]
  },
  {
   "cell_type": "code",
   "execution_count": 4,
   "metadata": {},
   "outputs": [],
   "source": [
    "os.chdir('D:\\\\')"
   ]
  },
  {
   "cell_type": "code",
   "execution_count": 5,
   "metadata": {},
   "outputs": [],
   "source": [
    "os.mkdir('./Music_' + str(first) + '_to_' + str(first + 199))"
   ]
  },
  {
   "cell_type": "code",
   "execution_count": 6,
   "metadata": {},
   "outputs": [],
   "source": [
    "os.chdir('D:/Music_' + str(first) + '_to_' + str(first + 199))"
   ]
  },
  {
   "cell_type": "code",
   "execution_count": 7,
   "metadata": {},
   "outputs": [],
   "source": [
    "url = \"https://freemusicarchive.org/search?adv=1&search-genre=Blues%2CElectronic%2CHip-Hop%2CJazz%2CRock%2CClassical%2CExperimental%2CInstrumental%2COld-Time%2FHistoric%2CSoul-RnB%2CCountry%2CFolk%2CInternational%2CPop%2CSpoken&sort=track_date_published&d=1&page=\" + times + \"&per_page=200\"\n",
    "r = requests.get(url)\n",
    "soup = BeautifulSoup(r.text, \"html.parser\")"
   ]
  },
  {
   "cell_type": "code",
   "execution_count": 8,
   "metadata": {},
   "outputs": [],
   "source": [
    "download = soup.select('a.icn-arrow')"
   ]
  },
  {
   "cell_type": "code",
   "execution_count": 9,
   "metadata": {},
   "outputs": [],
   "source": [
    "title = soup.select('span.ptxt-track a')[1:]"
   ]
  },
  {
   "cell_type": "code",
   "execution_count": 10,
   "metadata": {},
   "outputs": [],
   "source": [
    "name = open('音樂名稱' + str(first) + '_' + str(first + 199) + '.txt', 'w')"
   ]
  },
  {
   "cell_type": "code",
   "execution_count": 11,
   "metadata": {
    "scrolled": true
   },
   "outputs": [],
   "source": [
    "for i in range(len(download)):\n",
    "    geturl = download[i]['href']\n",
    "    response = requests.get(geturl).content\n",
    "    songname = title[i].text\n",
    "    if i + first < 10:\n",
    "        if '/' in songname:\n",
    "            songname = songname.replace('/', '')\n",
    "        if '?' in songname:\n",
    "            songname = songname.replace('?', '')\n",
    "        if '\"' in songname:\n",
    "            songname = songname.replace('\"', '')\n",
    "        music = open('0' + str(i + first) + '_' + songname + '.mp3', 'wb')\n",
    "    else:\n",
    "        if '/' in songname:\n",
    "            songname = songname.replace('/', '')\n",
    "        if '?' in songname:\n",
    "            songname = songname.replace('?', '')\n",
    "        if '\"' in songname:\n",
    "            songname = songname.replace('\"', '')\n",
    "        music = open(str(i + first) + '_' + songname + '.mp3', 'wb')\n",
    "    music.write(response)\n",
    "    music.close()\n",
    "    if i + first < 10:\n",
    "        name.write('0' + str(i + first) + '. ' + songname.encode(\"utf8\").decode(\"cp950\", \"ignore\") + '\\n')\n",
    "    else:\n",
    "        name.write(str(i + first) + '. ' + songname.encode(\"utf8\").decode(\"cp950\", \"ignore\") + '\\n')\n",
    "name.close()"
   ]
  }
 ],
 "metadata": {
  "kernelspec": {
   "display_name": "Python 3",
   "language": "python",
   "name": "python3"
  },
  "language_info": {
   "codemirror_mode": {
    "name": "ipython",
    "version": 3
   },
   "file_extension": ".py",
   "mimetype": "text/x-python",
   "name": "python",
   "nbconvert_exporter": "python",
   "pygments_lexer": "ipython3",
   "version": "3.7.1"
  }
 },
 "nbformat": 4,
 "nbformat_minor": 2
}
