{
 "cells": [
  {
   "cell_type": "code",
   "execution_count": 4,
   "metadata": {},
   "outputs": [
    {
     "name": "stdout",
     "output_type": "stream",
     "text": [
      "[新聞] 台灣工程師「玩臉」玩進奧斯卡  馬萬鈞 \n",
      "[討論] 寄生上流的石頭（小雷）\n",
      "[討論] 胡瓜與藍心湄的武打電影（？\n",
      "[贈票] 【噤界II】特映會搶先看\n",
      "[新聞] 最想看哪個遊戲改編成電影？《瑪利歐兄弟\n",
      "[討論] 傑森史塔森在電影界的地位？\n",
      "[請益] 女鬼橋究竟值不值得看\n",
      "Re: [好雷] 電影音效傳奇：好萊塢之聲（2019）小心得\n",
      "[討論] 為什麼好萊塢亞洲角色多是女的\n",
      "[負雷] 怨咒    重啟的不是很成功\n",
      "[情報] 南韓3月3日 電影觀影人次降至十年最低 \n",
      "[討論] 新變種人 電視預告\n",
      "[新聞] 彼得方達遺作【鋼鐵勳章】緬懷巨星英姿！\n",
      "[討論] 大家會因為肺炎不敢進戲院嗎？\n",
      "[請益] 哈里遜福特是80年代的男神阿湯哥嗎？\n",
      "Re: [討論] 寄生上流的「愛撫動作」好像是來真的？\n",
      "Fw: [公告] 台灣大學學生帳號註冊辦法\n",
      "[好雷] 《女鬼橋》：用青春恐怖片以小搏大 台灣\n",
      "[新聞] 《捍衛任務》系列導演查德史塔豪斯基將為\n",
      "[新聞] Pornhub 上架了一套認真探認社會議題的影\n",
      "[公告] 板規 2020/03/01 (增加14.1)\n",
      "[公告] 板規新增每日發文上限規定\n",
      "[公告] 獎季發文限制放寬\n",
      "[公告] 關於跑步哥\n"
     ]
    }
   ],
   "source": [
    "import urllib.request as req\n",
    "url = \"https://www.ptt.cc/bbs/movie/index.html\"\n",
    "#Establish a Request object, and attach information about Request Headers on it so that we won't get 403 forbidden error.\n",
    "request = req.Request(url, headers = {\n",
    "    \"User-Agent\":\"Mozilla/5.0 (Windows NT 10.0; Win64; x64) AppleWebKit/537.36 (KHTML, like Gecko) Chrome/80.0.3987.122 Safari/537.36\"\n",
    "})\n",
    "with req.urlopen(request) as response:\n",
    "    data = response.read().decode(\"utf-8\") #打開讀取request物件，with_as語法使得不用之後會自動關閉\n",
    "\n",
    "#取得標題\n",
    "from bs4 import BeautifulSoup\n",
    "html = BeautifulSoup(data, \"html.parser\")\n",
    "titles = html.find_all(\"div\", class_ = \"title\") #尋找所有 class=\"title\" 的div標籤\n",
    "#file = open(\"電影版標題.txt\", \"w\") #開一個可寫記事本檔案\n",
    "for title in titles:\n",
    "    if title.a != None: #「(本文已被刪除)」沒有a標籤，反之有a標籤的就是我們要印出來的\n",
    "        print(title.a.string) #印出標題\n",
    "        #file.write(title.a.string + \"\\n\") #將標題寫入記事本\n",
    "#file.close() #一定要記得把檔案關掉！！！"
   ]
  }
 ],
 "metadata": {
  "kernelspec": {
   "display_name": "Python 3",
   "language": "python",
   "name": "python3"
  },
  "language_info": {
   "codemirror_mode": {
    "name": "ipython",
    "version": 3
   },
   "file_extension": ".py",
   "mimetype": "text/x-python",
   "name": "python",
   "nbconvert_exporter": "python",
   "pygments_lexer": "ipython3",
   "version": "3.7.1"
  }
 },
 "nbformat": 4,
 "nbformat_minor": 2
}
