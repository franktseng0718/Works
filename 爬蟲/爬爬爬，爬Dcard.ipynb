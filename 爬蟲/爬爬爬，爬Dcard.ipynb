{
 "cells": [
  {
   "cell_type": "code",
   "execution_count": 1,
   "metadata": {},
   "outputs": [
    {
     "name": "stdout",
     "output_type": "stream",
     "text": [
      "200\n"
     ]
    }
   ],
   "source": [
    "import requests\n",
    "url = \"https://www.dcard.tw/f\"\n",
    "#resp = requests.get(url)\n",
    "#print(resp.status_code)"
   ]
  },
  {
   "cell_type": "code",
   "execution_count": 2,
   "metadata": {},
   "outputs": [],
   "source": [
    "headers = {\"User-Agent\":\"Mozilla/5.0 (Windows NT 10.0; Win64; x64) AppleWebKit/537.36 (KHTML, like Gecko) Chrome/75.0.3770.100 Safari/537.36\"}\n",
    "resp = requests.get(url, headers = headers)\n",
    "from bs4 import BeautifulSoup\n",
    "soup = BeautifulSoup(resp.text, \"html.parser\")"
   ]
  },
  {
   "cell_type": "code",
   "execution_count": 4,
   "metadata": {},
   "outputs": [],
   "source": [
    "import re\n",
    "dcard = soup.find_all('h3', re.compile('PostEntry_title_'))"
   ]
  },
  {
   "cell_type": "code",
   "execution_count": 8,
   "metadata": {},
   "outputs": [
    {
     "name": "stdout",
     "output_type": "stream",
     "text": [
      "Dcard熱門搜索標題\n",
      " 1.這就是真愛吧。\n",
      " 2.吃蛋糕吃到戒指\n",
      " 3.柯文哲的政績無感\n",
      " 4.更/20歲女孩的老年生活\n",
      " 5.沒見過笑話這麼多的蝦皮賣家\n",
      " 6.Ashly&尼克❤️\n",
      " 7.同一件衣服連續穿30天\n",
      " 8.台灣人就是客氣OwO\n",
      " 9.另一半不想吃飯可以做米漢堡給他/她\n",
      "10.小時候夢想很鬧的偶像們\n",
      "11.混合肌の夏日首選💧保養交給SOFINA jenne透美顏💧飽水Ｘ控油一次實現！給妳清爽水嫩超美肌💙\n",
      "12.媽媽變漂亮了 II\n",
      "13.名畫與妝容的結合\n",
      "14.郭台銘美女前特助: 郭已經瘋了!\n",
      "15.《我只喜歡你》這不就是你我的影子嗎？\n",
      "16.應采兒教大家懷孕要棄養貓狗！\n",
      "17.我的後宮男友 終\n",
      "18.巧遇威廉本特利🥺\n",
      "19.小更/有些男生總愛嫌棄女生穿搭？\n",
      "20.升大三那年的暑假我懷孕了（文長）\n",
      "21.林飛帆你讓我們失望了\n",
      "22.小學老師都哭的文字藝術\n",
      "23.被誤會的公仔\n",
      "24.關於妥瑞氏症，我想說的是\n",
      "25.韓國最初！阿拉伯單獨開唱組合Super Junior！\n",
      "26.無法認同\n",
      "27.身旁所有星座朋友的特質\n",
      "28.迪士尼《花木蘭》真人版電影預告-難怪好像少了什麼 原來是少了成龍的部分阿!\n",
      "29.南 我們等妳 那時候會更幸福\n",
      "30.如果做愛喊\"不行\"(微西斯)\n",
      "31.分手後離開舒適圈的成長\n"
     ]
    }
   ],
   "source": [
    "print(\"Dcard熱門搜索標題\")\n",
    "for i in range(len(dcard)):\n",
    "    print(\"{0:2d}.{1}\".format(i + 1, dcard[i].text.strip()))"
   ]
  }
 ],
 "metadata": {
  "kernelspec": {
   "display_name": "Python 3",
   "language": "python",
   "name": "python3"
  },
  "language_info": {
   "codemirror_mode": {
    "name": "ipython",
    "version": 3
   },
   "file_extension": ".py",
   "mimetype": "text/x-python",
   "name": "python",
   "nbconvert_exporter": "python",
   "pygments_lexer": "ipython3",
   "version": "3.7.1"
  }
 },
 "nbformat": 4,
 "nbformat_minor": 2
}
