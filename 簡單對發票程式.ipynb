{
 "cells": [
  {
   "cell_type": "code",
   "execution_count": 10,
   "metadata": {},
   "outputs": [
    {
     "data": {
      "text/plain": [
       "' 這個程式碼是我為了節省對發票時間寫的\\n    不然對每張發票都要看一次各組中獎號碼很麻煩\\n    把末三碼背起來又怕恍神記錯\\n    \\n    所以寫一個程式\\n    剛該始就把中獎號碼打好\\n    接著只要一張一張輸入末三碼\\n    不怕對錯\\n    也可以加快速度\\n    \\n    只是這個是半自動的\\n    只有對到末三碼\\n    若中超過200元的，要手動對\\n    原因是這樣程式比較簡單\\n    而且......事實上\\n    超過200元的機率很小._.'"
      ]
     },
     "execution_count": 10,
     "metadata": {},
     "output_type": "execute_result"
    }
   ],
   "source": [
    "\"\"\" 這個程式碼是我為了節省對發票時間寫的\n",
    "    不然對每張發票都要看一次各組中獎號碼很麻煩\n",
    "    把末三碼背起來又怕恍神記錯\n",
    "    \n",
    "    所以寫一個程式\n",
    "    剛該始就把中獎號碼打好\n",
    "    接著只要一張一張輸入末三碼\n",
    "    不怕對錯\n",
    "    也可以加快速度\n",
    "    \n",
    "    只是這個是半自動的\n",
    "    只有對到末三碼\n",
    "    若中超過200元的，要手動對\n",
    "    原因是這樣程式比較簡單\n",
    "    而且......事實上\n",
    "    超過200元的機率很小._.\"\"\""
   ]
  },
  {
   "cell_type": "code",
   "execution_count": 1,
   "metadata": {},
   "outputs": [
    {
     "name": "stdout",
     "output_type": "stream",
     "text": [
      "請入特別獎號碼:測試1：非文字，下一個是測試2：數字但非8位，之後程式碼相同測試步驟\n",
      "輸入錯誤，請確認您輸入的是8個數字號碼！\n",
      "請入特別獎號碼:123\n",
      "輸入錯誤，請確認您輸入的是8個數字號碼！\n",
      "請入特別獎號碼:12345678\n"
     ]
    }
   ],
   "source": [
    "while True:\n",
    "    first_prize = input(\"請入特別獎號碼:\")\n",
    "    if first_prize.isnumeric() and len(first_prize) == 8:\n",
    "        break\n",
    "    else:\n",
    "        print(\"輸入錯誤，請確認您輸入的是8個數字號碼！\")"
   ]
  },
  {
   "cell_type": "code",
   "execution_count": 2,
   "metadata": {},
   "outputs": [
    {
     "name": "stdout",
     "output_type": "stream",
     "text": [
      "請輸入特獎號碼:嗨\n",
      "輸入錯誤，請確認您輸入的是8個數字號碼！\n",
      "請輸入特獎號碼:123\n",
      "輸入錯誤，請確認您輸入的是8個數字號碼！\n",
      "請輸入特獎號碼:87654321\n"
     ]
    }
   ],
   "source": [
    "while True:\n",
    "    second_prize = input(\"請輸入特獎號碼:\")\n",
    "    if second_prize.isnumeric() and len(second_prize) == 8:\n",
    "        break\n",
    "    else:\n",
    "        print(\"輸入錯誤，請確認您輸入的是8個數字號碼！\")"
   ]
  },
  {
   "cell_type": "code",
   "execution_count": 3,
   "metadata": {},
   "outputs": [
    {
     "name": "stdout",
     "output_type": "stream",
     "text": [
      "請輸入第一組頭獎號碼:嗨\n",
      "輸入錯誤，請確認您輸入的是8個數字號碼！\n",
      "請輸入第一組頭獎號碼:123\n",
      "輸入錯誤，請確認您輸入的是8個數字號碼！\n",
      "請輸入第一組頭獎號碼:13572468\n"
     ]
    }
   ],
   "source": [
    "while True:\n",
    "    head1 = input(\"請輸入第一組頭獎號碼:\")\n",
    "    if head1.isnumeric() and len(head1) == 8:\n",
    "        break\n",
    "    else:\n",
    "        print(\"輸入錯誤，請確認您輸入的是8個數字號碼！\")"
   ]
  },
  {
   "cell_type": "code",
   "execution_count": 4,
   "metadata": {},
   "outputs": [
    {
     "name": "stdout",
     "output_type": "stream",
     "text": [
      "請輸入第二組頭獎號碼:嗨\n",
      "輸入錯誤，請確認您輸入的是8個數字號碼！\n",
      "請輸入第二組頭獎號碼:123\n",
      "輸入錯誤，請確認您輸入的是8個數字號碼！\n",
      "請輸入第二組頭獎號碼:84627531\n"
     ]
    }
   ],
   "source": [
    "while True:\n",
    "    head2 = input(\"請輸入第二組頭獎號碼:\")\n",
    "    if head2.isnumeric() and len(head2) == 8:\n",
    "        break\n",
    "    else:\n",
    "        print(\"輸入錯誤，請確認您輸入的是8個數字號碼！\")"
   ]
  },
  {
   "cell_type": "code",
   "execution_count": 5,
   "metadata": {},
   "outputs": [
    {
     "name": "stdout",
     "output_type": "stream",
     "text": [
      "請輸入第三組頭獎號碼:嗨\n",
      "輸入錯誤，請確認您輸入的是8個數字號碼！\n",
      "請輸入第三組頭獎號碼:123\n",
      "輸入錯誤，請確認您輸入的是8個數字號碼！\n",
      "請輸入第三組頭獎號碼:98765432\n"
     ]
    }
   ],
   "source": [
    "while True:\n",
    "    head3 = input(\"請輸入第三組頭獎號碼:\")\n",
    "    if head3.isnumeric() and len(head3) == 8:\n",
    "        break\n",
    "    else:\n",
    "        print(\"輸入錯誤，請確認您輸入的是8個數字號碼！\")"
   ]
  },
  {
   "cell_type": "code",
   "execution_count": 6,
   "metadata": {},
   "outputs": [
    {
     "name": "stdout",
     "output_type": "stream",
     "text": [
      "請輸入第一組增開六獎號碼:接下來三組增開六獎是3個號碼才符合\n",
      "輸入錯誤，請確認您輸入的是3個數字號碼！\n",
      "請輸入第一組增開六獎號碼:123456789\n",
      "輸入錯誤，請確認您輸入的是3個數字號碼！\n",
      "請輸入第一組增開六獎號碼:123\n"
     ]
    }
   ],
   "source": [
    "while True:\n",
    "    little1 = input(\"請輸入第一組增開六獎號碼:\")\n",
    "    if little1.isnumeric() and len(little1) == 3:\n",
    "        break\n",
    "    else:\n",
    "        print(\"輸入錯誤，請確認您輸入的是3個數字號碼！\")"
   ]
  },
  {
   "cell_type": "code",
   "execution_count": 7,
   "metadata": {},
   "outputs": [
    {
     "name": "stdout",
     "output_type": "stream",
     "text": [
      "請輸入第二組增開六獎號碼:嗨\n",
      "輸入錯誤，請確認您輸入的是3個數字號碼！\n",
      "請輸入第二組增開六獎號碼:123456789\n",
      "輸入錯誤，請確認您輸入的是3個數字號碼！\n",
      "請輸入第二組增開六獎號碼:456\n"
     ]
    }
   ],
   "source": [
    "while True:\n",
    "    little2 = input(\"請輸入第二組增開六獎號碼:\")\n",
    "    if little2.isnumeric() and len(little2) == 3:\n",
    "        break\n",
    "    else:\n",
    "        print(\"輸入錯誤，請確認您輸入的是3個數字號碼！\")"
   ]
  },
  {
   "cell_type": "code",
   "execution_count": 8,
   "metadata": {},
   "outputs": [
    {
     "name": "stdout",
     "output_type": "stream",
     "text": [
      "請輸入第三組增開六獎號碼:嗨\n",
      "輸入錯誤，請確認您輸入的是3個數字號碼！\n",
      "請輸入第三組增開六獎號碼:123456789\n",
      "輸入錯誤，請確認您輸入的是3個數字號碼！\n",
      "請輸入第三組增開六獎號碼:789\n"
     ]
    }
   ],
   "source": [
    "while True:\n",
    "    little3 = input(\"請輸入第三組增開六獎號碼:\")\n",
    "    if little3.isnumeric() and len(little3) == 3:\n",
    "        break\n",
    "    else:\n",
    "        print(\"輸入錯誤，請確認您輸入的是3個數字號碼！\")"
   ]
  },
  {
   "cell_type": "code",
   "execution_count": 9,
   "metadata": {},
   "outputs": [
    {
     "name": "stdout",
     "output_type": "stream",
     "text": [
      "請輸入發票末三碼，如需退出請輸入0\n",
      "首先測試非數字，然後是非3個號碼，然後是正常輸入但沒中獎，接著以上各中獎一次，最後按0退出\n",
      "輸入錯誤，請確認您輸入的是3個數字號碼！\n",
      "請輸入發票末三碼，如需退出請輸入0\n",
      "123456789\n",
      "輸入錯誤，請確認您輸入的是3個數字號碼！\n",
      "請輸入發票末三碼，如需退出請輸入0\n",
      "147\n",
      "很可惜...這張沒中獎...\n",
      "請輸入發票末三碼，如需退出請輸入0\n",
      "123\n",
      "恭喜中獎200元！！！\n",
      "請輸入發票末三碼，如需退出請輸入0\n",
      "456\n",
      "恭喜中獎200元！！！\n",
      "請輸入發票末三碼，如需退出請輸入0\n",
      "789\n",
      "恭喜中獎200元！！！\n",
      "請輸入發票末三碼，如需退出請輸入0\n",
      "432\n",
      "恭喜中獎200元！！！而且...可能更多！！！\n",
      "請輸入發票末三碼，如需退出請輸入0\n",
      "531\n",
      "恭喜中獎200元！！！而且...可能更多！！！\n",
      "請輸入發票末三碼，如需退出請輸入0\n",
      "468\n",
      "恭喜中獎200元！！！而且...可能更多！！！\n",
      "請輸入發票末三碼，如需退出請輸入0\n",
      "321\n",
      "您有可能中超級大獎！快去對！！！\n",
      "請輸入發票末三碼，如需退出請輸入0\n",
      "678\n",
      "您有可能中超級大獎！快去對！！！\n",
      "請輸入發票末三碼，如需退出請輸入0\n",
      "0\n"
     ]
    }
   ],
   "source": [
    "while True:\n",
    "    invoice = input(\"請輸入發票末三碼，如需退出請輸入0\\n\")\n",
    "    if invoice == '0':\n",
    "        break\n",
    "    if invoice.isnumeric() and len(invoice) == 3:\n",
    "        if invoice == little1 or invoice == little2 or invoice == little3:\n",
    "            print(\"恭喜中獎200元！！！\")\n",
    "        elif invoice == head1[-3:] or invoice == head2[-3:] or invoice == head3[-3:]:\n",
    "            print(\"恭喜中獎200元！！！而且...可能更多！！！\")\n",
    "        elif invoice == first_prize[-3:] or invoice == second_prize[-3:]:\n",
    "            print(\"您有可能中超級大獎！快去對！！！\")\n",
    "        else:\n",
    "            print(\"很可惜...這張沒中獎...\")\n",
    "    else:\n",
    "        print(\"輸入錯誤，請確認您輸入的是3個數字號碼！\")"
   ]
  }
 ],
 "metadata": {
  "kernelspec": {
   "display_name": "Python 3",
   "language": "python",
   "name": "python3"
  },
  "language_info": {
   "codemirror_mode": {
    "name": "ipython",
    "version": 3
   },
   "file_extension": ".py",
   "mimetype": "text/x-python",
   "name": "python",
   "nbconvert_exporter": "python",
   "pygments_lexer": "ipython3",
   "version": "3.7.1"
  }
 },
 "nbformat": 4,
 "nbformat_minor": 2
}
