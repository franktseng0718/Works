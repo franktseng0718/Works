{
 "cells": [
  {
   "cell_type": "code",
   "execution_count": 1,
   "metadata": {},
   "outputs": [],
   "source": [
    "from IPython.display import Image\n",
    "from IPython.core.display import HTML"
   ]
  },
  {
   "cell_type": "code",
   "execution_count": 2,
   "metadata": {},
   "outputs": [],
   "source": [
    "ppt_url_part_1 = \"https://github.com/witty27818a/Works/blob/master/%E5%B0%88%E6%A1%88%E5%85%A7%E5%AE%B9/(%E5%9C%96%E7%89%87%E9%80%A3%E7%B5%90)%E7%9C%9F%E7%9A%84%E5%81%87%E7%9A%84---Twitter%E7%81%BD%E9%9B%A3%E6%80%A7%E8%B2%BC%E6%96%87%E4%B9%8B%E7%9C%9F%E5%AF%A6%E6%80%A7%E5%88%A4%E6%96%B7/%E6%8A%95%E5%BD%B1%E7%89%87\"\n",
    "ppt_url_part_2 = \".PNG?raw=true\""
   ]
  },
  {
   "cell_type": "code",
   "execution_count": 3,
   "metadata": {},
   "outputs": [
    {
     "data": {
      "text/html": [
       "<img src=\"https://github.com/witty27818a/Works/blob/master/%E5%B0%88%E6%A1%88%E5%85%A7%E5%AE%B9/(%E5%9C%96%E7%89%87%E9%80%A3%E7%B5%90)%E7%9C%9F%E7%9A%84%E5%81%87%E7%9A%84---Twitter%E7%81%BD%E9%9B%A3%E6%80%A7%E8%B2%BC%E6%96%87%E4%B9%8B%E7%9C%9F%E5%AF%A6%E6%80%A7%E5%88%A4%E6%96%B7/%E6%8A%95%E5%BD%B1%E7%89%871.PNG?raw=true\"/>"
      ],
      "text/plain": [
       "<IPython.core.display.Image object>"
      ]
     },
     "execution_count": 3,
     "metadata": {},
     "output_type": "execute_result"
    }
   ],
   "source": [
    "Image(url = ppt_url_part_1 + str(1) + ppt_url_part_2)"
   ]
  },
  {
   "cell_type": "markdown",
   "metadata": {},
   "source": [
    "完整PPT，包含程式碼各區塊說明"
   ]
  },
  {
   "cell_type": "markdown",
   "metadata": {},
   "source": [
    "請參考資料夾「專案內容」中的資料夾「(圖片連結)真的假的---Twitter災難性貼文之真實性判斷」"
   ]
  },
  {
   "cell_type": "markdown",
   "metadata": {},
   "source": [
    "# 目錄\n",
    "1. 選題動機\n",
    "2. 專案介紹\n",
    "3. 資料庫與資料介紹\n",
    "4. 實作規劃\n",
    "5. 語料預處理\n",
    "6. BERT簡介\n",
    "7. BERT實作\n",
    "8. XLNet簡介\n",
    "9. XLNet實作\n",
    "10. 使用者介面"
   ]
  },
  {
   "cell_type": "markdown",
   "metadata": {},
   "source": [
    "# 1.選題動機\n",
    "    * 假貼文猖獗:輕則造成財物損失，重可造成人員傷亡\n",
    "    * NLP分類問題應用廣泛，如: 電影評論\n",
    "    * 打擊假貼文:為眾多國家與社交媒體公司近年首要之務"
   ]
  },
  {
   "cell_type": "markdown",
   "metadata": {},
   "source": [
    "# 2.專案介紹\n",
    "## 題目啟發\n",
    "    * Kaggle Ongoing Competition\n",
    "    * 任務: 對災難性推特貼文，判斷真實性\n",
    "    * 評分: 放上Kaggle競賽平台，由平台公正資料測試預測準確度\n",
    "## 我們的專案\n",
    "1. 下載Kaggle資料集\n",
    "2. 訓練機器學習和深度學習模型，解決NLP任務\n",
    "3. `LineBot聊天機器人`: \n",
    "    * 使用者介面\n",
    "    * 即時查詢留言，快速判斷真假\n"
   ]
  },
  {
   "cell_type": "markdown",
   "metadata": {},
   "source": [
    "# 3.資料庫與資料介紹\n",
    "## 資料庫- Kaggle 資料集\n",
    "* Train Data\n",
    "* Test Data\n",
    "\n",
    "## 資料集介紹"
   ]
  },
  {
   "cell_type": "code",
   "execution_count": 4,
   "metadata": {},
   "outputs": [
    {
     "data": {
      "text/html": [
       "<img src=\"https://github.com/witty27818a/Works/blob/master/%E5%B0%88%E6%A1%88%E5%85%A7%E5%AE%B9/(%E5%9C%96%E7%89%87%E9%80%A3%E7%B5%90)%E7%9C%9F%E7%9A%84%E5%81%87%E7%9A%84---Twitter%E7%81%BD%E9%9B%A3%E6%80%A7%E8%B2%BC%E6%96%87%E4%B9%8B%E7%9C%9F%E5%AF%A6%E6%80%A7%E5%88%A4%E6%96%B7/%E6%8A%95%E5%BD%B1%E7%89%878.PNG?raw=true\"/>"
      ],
      "text/plain": [
       "<IPython.core.display.Image object>"
      ]
     },
     "execution_count": 4,
     "metadata": {},
     "output_type": "execute_result"
    }
   ],
   "source": [
    "Image(url = ppt_url_part_1 + str(8) + ppt_url_part_2)"
   ]
  },
  {
   "cell_type": "markdown",
   "metadata": {},
   "source": [
    "# 4.實作規劃"
   ]
  },
  {
   "cell_type": "code",
   "execution_count": 5,
   "metadata": {},
   "outputs": [
    {
     "data": {
      "text/html": [
       "<img src=\"https://github.com/witty27818a/Works/blob/master/%E5%B0%88%E6%A1%88%E5%85%A7%E5%AE%B9/(%E5%9C%96%E7%89%87%E9%80%A3%E7%B5%90)%E7%9C%9F%E7%9A%84%E5%81%87%E7%9A%84---Twitter%E7%81%BD%E9%9B%A3%E6%80%A7%E8%B2%BC%E6%96%87%E4%B9%8B%E7%9C%9F%E5%AF%A6%E6%80%A7%E5%88%A4%E6%96%B7/%E6%8A%95%E5%BD%B1%E7%89%8710.PNG?raw=true\"/>"
      ],
      "text/plain": [
       "<IPython.core.display.Image object>"
      ]
     },
     "execution_count": 5,
     "metadata": {},
     "output_type": "execute_result"
    }
   ],
   "source": [
    "Image(url = ppt_url_part_1 + str(10) + ppt_url_part_2)"
   ]
  },
  {
   "cell_type": "markdown",
   "metadata": {},
   "source": [
    "# 5.語料預處理 \n",
    "### 預處理: 正則表達式\n",
    "* 移除顏文字和一些怪符號\n",
    "* 移除 hashtag 的符號'#'\n",
    "* 移除人名標記\n",
    "* 移除網址\n",
    "* 全部小寫化\n",
    "* 移除無關用語: wa, ha, ve"
   ]
  },
  {
   "cell_type": "code",
   "execution_count": 6,
   "metadata": {},
   "outputs": [
    {
     "data": {
      "text/html": [
       "<img src=\"https://github.com/witty27818a/Works/blob/master/%E5%B0%88%E6%A1%88%E5%85%A7%E5%AE%B9/(%E5%9C%96%E7%89%87%E9%80%A3%E7%B5%90)%E7%9C%9F%E7%9A%84%E5%81%87%E7%9A%84---Twitter%E7%81%BD%E9%9B%A3%E6%80%A7%E8%B2%BC%E6%96%87%E4%B9%8B%E7%9C%9F%E5%AF%A6%E6%80%A7%E5%88%A4%E6%96%B7/%E6%8A%95%E5%BD%B1%E7%89%8712.PNG?raw=true\"/>"
      ],
      "text/plain": [
       "<IPython.core.display.Image object>"
      ]
     },
     "execution_count": 6,
     "metadata": {},
     "output_type": "execute_result"
    }
   ],
   "source": [
    "Image(url = ppt_url_part_1 + str(12) + ppt_url_part_2)"
   ]
  },
  {
   "cell_type": "markdown",
   "metadata": {},
   "source": [
    "### 資料處理結果:"
   ]
  },
  {
   "cell_type": "code",
   "execution_count": 7,
   "metadata": {},
   "outputs": [
    {
     "data": {
      "text/html": [
       "<img src=\"https://github.com/witty27818a/Works/blob/master/%E5%B0%88%E6%A1%88%E5%85%A7%E5%AE%B9/(%E5%9C%96%E7%89%87%E9%80%A3%E7%B5%90)%E7%9C%9F%E7%9A%84%E5%81%87%E7%9A%84---Twitter%E7%81%BD%E9%9B%A3%E6%80%A7%E8%B2%BC%E6%96%87%E4%B9%8B%E7%9C%9F%E5%AF%A6%E6%80%A7%E5%88%A4%E6%96%B7/%E6%8A%95%E5%BD%B1%E7%89%8713.PNG?raw=true\"/>"
      ],
      "text/plain": [
       "<IPython.core.display.Image object>"
      ]
     },
     "execution_count": 7,
     "metadata": {},
     "output_type": "execute_result"
    }
   ],
   "source": [
    "Image(url = ppt_url_part_1 + str(13) + ppt_url_part_2)"
   ]
  },
  {
   "cell_type": "markdown",
   "metadata": {},
   "source": [
    "# 6~9.模型簡介與實作\n",
    "## 程式碼連結(Google Drive):\n",
    "https://drive.google.com/drive/folders/10rcM9h9QnMJoL04jj8tv0MSAt0b-_1Xz?usp=sharing\n",
    "* 我負責的部分：\n",
    "    * BERT\n",
    "    * XLNet\n",
    "    \n",
    "備註：XGBoost部分為組員「李郁萱」負責"
   ]
  },
  {
   "cell_type": "markdown",
   "metadata": {},
   "source": [
    "# 6.BERT 簡介\n",
    "\n",
    "* Bidirectional Encoder Representations from Transformer\n",
    "* 架構：Transformer中的Encoder\n",
    "* 傳統語言模型的變形\n",
    "* 一個能直接處理各式 NLP 任務的通用架構\n",
    "\n",
    "### 兩階段遷移學習！\n",
    "* 預先訓練出對自然語言有一定理解的語言模型\n",
    "* 用該模型做特徵擷取，或是fine-tune不同的下游監督式任務\n",
    "* 只要弄好第一步的模型，第二步就可用transfer learning來大大減低花費成本。\n",
    "\n",
    "### 預訓練任務\n",
    "1. 「克漏字填空」：學會處理每個詞在不同語境下該有的向量表示\n",
    "    * Masked Language Model, MLM\n",
    "    * 潮水「？」了，就知道誰沒穿褲子。\n",
    "2. 「下句預測」：學會處理兩個句子之間的關係\n",
    "    * Next Sentence Prediction, NSP\n",
    "    * 醒醒吧 + 你沒有妹妹 → OK？\n",
    "    * 用處：問答系統QA、自然語言推論NLI"
   ]
  },
  {
   "cell_type": "markdown",
   "metadata": {},
   "source": [
    "# 7.BERT 實作\n",
    "* 匯入套件與檢視\n",
    "* 資料處理(訓練資料)\n",
    "* 資料處理(測試資料)\n",
    "* 實作一個與BERT相容的Dataset\n",
    "* BERT的tokenizer"
   ]
  },
  {
   "cell_type": "code",
   "execution_count": 8,
   "metadata": {},
   "outputs": [
    {
     "data": {
      "text/html": [
       "<img src=\"https://github.com/witty27818a/Works/blob/master/%E5%B0%88%E6%A1%88%E5%85%A7%E5%AE%B9/(%E5%9C%96%E7%89%87%E9%80%A3%E7%B5%90)%E7%9C%9F%E7%9A%84%E5%81%87%E7%9A%84---Twitter%E7%81%BD%E9%9B%A3%E6%80%A7%E8%B2%BC%E6%96%87%E4%B9%8B%E7%9C%9F%E5%AF%A6%E6%80%A7%E5%88%A4%E6%96%B7/%E6%8A%95%E5%BD%B1%E7%89%8729.PNG?raw=true\"/>"
      ],
      "text/plain": [
       "<IPython.core.display.Image object>"
      ]
     },
     "execution_count": 8,
     "metadata": {},
     "output_type": "execute_result"
    }
   ],
   "source": [
    "Image(url = ppt_url_part_1 + str(29) + ppt_url_part_2)"
   ]
  },
  {
   "cell_type": "markdown",
   "metadata": {},
   "source": [
    "* 一次傳一小batch的dataloader\n",
    "* 拿出一個batch看看\n",
    "* 訂定測試準確率的函式\n",
    "* 參數數量\n",
    "    * 加上去的線性分類器如滄海一粟般渺小\n",
    "* 訓練\n",
    "* 測試、部分預測結果"
   ]
  },
  {
   "cell_type": "code",
   "execution_count": 9,
   "metadata": {},
   "outputs": [
    {
     "data": {
      "text/html": [
       "<img src=\"https://github.com/witty27818a/Works/blob/master/%E5%B0%88%E6%A1%88%E5%85%A7%E5%AE%B9/(%E5%9C%96%E7%89%87%E9%80%A3%E7%B5%90)%E7%9C%9F%E7%9A%84%E5%81%87%E7%9A%84---Twitter%E7%81%BD%E9%9B%A3%E6%80%A7%E8%B2%BC%E6%96%87%E4%B9%8B%E7%9C%9F%E5%AF%A6%E6%80%A7%E5%88%A4%E6%96%B7/%E6%8A%95%E5%BD%B1%E7%89%8735.PNG?raw=true\"/>"
      ],
      "text/plain": [
       "<IPython.core.display.Image object>"
      ]
     },
     "execution_count": 9,
     "metadata": {},
     "output_type": "execute_result"
    }
   ],
   "source": [
    "Image(url = ppt_url_part_1 + str(35) + ppt_url_part_2)"
   ]
  },
  {
   "cell_type": "markdown",
   "metadata": {},
   "source": [
    "# 8.XLNet 簡介\n",
    "        \n",
    "### 自回歸(AR)語言模型\n",
    "* 自回歸(Auto Regressive, AR)：利用前向(上文)或後向(下文)的情景信息來預測下一個詞，是單方向的。\n",
    "* 情景訊息通常有前後兩個方向\n",
    "    * 例如：「我 愛 吃 甜 蘋果」\n",
    "    * 如目標是「吃」，則：\n",
    "        * 前向情景為「我」和「愛」\n",
    "        * 後向就是「甜」和「蘋果」\n",
    "* 缺點：只能利用其中一個方向來判斷，然而預測一個詞通常是需要上下文一起判斷的。\n",
    "* GPT、ELMO皆屬之\n",
    "    * 雖然ELMO同時包含了前後兩個方向，但這兩方向是獨立計算的。因此仍然無法很好地判斷上下文。\n",
    "\n",
    "\n",
    "### 自編碼(AE)語言模型\n",
    "* Auto Encoder, AE\n",
    "* BERT的Masked Language Model(MLM)便是基於「去噪自編碼器(DAE)」\n",
    "    * 是傳統AE的其中一種改良版\n",
    "    * 透過在輸入層加入隨機噪聲，來緩解過擬合現象。\n",
    "* 優點：可以做到同時看上下文\n",
    "* 缺點：\n",
    "    * 1. 克漏字的預訓練階段，使用了[MASK] 遮罩(噪聲)，但是真正在Fine-tune的時候沒有這種東西。會造成資訊不對稱(Input Noise)。\n",
    "    * 2. BERT假設被預測的[MASK]獨立於未屏蔽的其他token，然而真正的自然語言中並非如此。\n",
    "\n",
    "### XLNet!\n",
    "* 基於自回歸(AR)，採用了新方法實現雙向編碼。\n",
    "    * 因為是基於AR方法，所以沒有BERT的缺點！\n",
    "    * 又可避免AR語言模型只能單向學習的弊端\n",
    "* XLNet的創新點：\n",
    "    * `置換語言建模(Permutation Language Modeling, PLM)`\n",
    "        * 可以捕捉上下文了！\n",
    "    * `雙流自注意機制(Two-Stream Self-Attention)`\n",
    "        * 包含了`Query Stream`(只在預訓練階段用到)及`Content Stream`\n",
    "        * 分別取代了`[MASK]`遮罩的兩種功能：告訴模型預測單詞的位置，以及其前後文關係。\n",
    "    * `借鑑Transformer-XL，實現大型文本的學習！`\n",
    "* 作法、差異簡介\n",
    "    * 預訓練階段：還是用`Transformer`：`Seq2Seq模型` + `自注意(self-attention)機制`\n",
    "    * 採取了一些改進方法，例如`置換語言建模(PLM)`等等。"
   ]
  },
  {
   "cell_type": "markdown",
   "metadata": {},
   "source": [
    "# 9.XLNet 實作\n",
    "* 匯入套件與資料\n",
    "* 資料清理(使用正則表達式)\n",
    "* XLNET的tokenizer\n",
    "* 建造模型\n",
    "* 分割資料集、產生tensor\n",
    "* ROC圖與AUC"
   ]
  },
  {
   "cell_type": "code",
   "execution_count": 10,
   "metadata": {},
   "outputs": [
    {
     "data": {
      "text/html": [
       "<img src=\"https://github.com/witty27818a/Works/blob/master/%E5%B0%88%E6%A1%88%E5%85%A7%E5%AE%B9/(%E5%9C%96%E7%89%87%E9%80%A3%E7%B5%90)%E7%9C%9F%E7%9A%84%E5%81%87%E7%9A%84---Twitter%E7%81%BD%E9%9B%A3%E6%80%A7%E8%B2%BC%E6%96%87%E4%B9%8B%E7%9C%9F%E5%AF%A6%E6%80%A7%E5%88%A4%E6%96%B7/%E6%8A%95%E5%BD%B1%E7%89%8749.PNG?raw=true\"/>"
      ],
      "text/plain": [
       "<IPython.core.display.Image object>"
      ]
     },
     "execution_count": 10,
     "metadata": {},
     "output_type": "execute_result"
    }
   ],
   "source": [
    "Image(url = ppt_url_part_1 + str(49) + ppt_url_part_2)"
   ]
  },
  {
   "cell_type": "markdown",
   "metadata": {},
   "source": [
    "* 定義回調函數(Callback fn.)\n",
    "* 訓練\n",
    "* 問題:\n",
    "    1. 梯度消失！\n",
    "    2. 資源耗盡！\n",
    "        * 記憶體被撐爆了！\n",
    "        * 解決方法：降低batch_size(20→5)，雖然慢了點，但至少可以動了"
   ]
  },
  {
   "cell_type": "markdown",
   "metadata": {},
   "source": [
    "## 模型比較"
   ]
  },
  {
   "cell_type": "code",
   "execution_count": 11,
   "metadata": {},
   "outputs": [
    {
     "data": {
      "text/html": [
       "<img src=\"https://github.com/witty27818a/Works/blob/master/%E5%B0%88%E6%A1%88%E5%85%A7%E5%AE%B9/(%E5%9C%96%E7%89%87%E9%80%A3%E7%B5%90)%E7%9C%9F%E7%9A%84%E5%81%87%E7%9A%84---Twitter%E7%81%BD%E9%9B%A3%E6%80%A7%E8%B2%BC%E6%96%87%E4%B9%8B%E7%9C%9F%E5%AF%A6%E6%80%A7%E5%88%A4%E6%96%B7/%E6%8A%95%E5%BD%B1%E7%89%8755.PNG?raw=true\"/>"
      ],
      "text/plain": [
       "<IPython.core.display.Image object>"
      ]
     },
     "execution_count": 11,
     "metadata": {},
     "output_type": "execute_result"
    }
   ],
   "source": [
    "Image(url = ppt_url_part_1 + str(55) + ppt_url_part_2)"
   ]
  },
  {
   "cell_type": "code",
   "execution_count": 12,
   "metadata": {},
   "outputs": [
    {
     "data": {
      "text/html": [
       "<img src=\"https://github.com/witty27818a/Works/blob/master/%E5%B0%88%E6%A1%88%E5%85%A7%E5%AE%B9/(%E5%9C%96%E7%89%87%E9%80%A3%E7%B5%90)%E7%9C%9F%E7%9A%84%E5%81%87%E7%9A%84---Twitter%E7%81%BD%E9%9B%A3%E6%80%A7%E8%B2%BC%E6%96%87%E4%B9%8B%E7%9C%9F%E5%AF%A6%E6%80%A7%E5%88%A4%E6%96%B7/%E6%8A%95%E5%BD%B1%E7%89%8756.PNG?raw=true\"/>"
      ],
      "text/plain": [
       "<IPython.core.display.Image object>"
      ]
     },
     "execution_count": 12,
     "metadata": {},
     "output_type": "execute_result"
    }
   ],
   "source": [
    "Image(url = ppt_url_part_1 + str(56) + ppt_url_part_2)"
   ]
  },
  {
   "cell_type": "markdown",
   "metadata": {},
   "source": [
    "# 8.使用者介面: Line Bot\n",
    "備註：這一個部分由組員「楊宗泰」負責"
   ]
  },
  {
   "cell_type": "markdown",
   "metadata": {},
   "source": [
    "## 為何選Line Bot"
   ]
  },
  {
   "cell_type": "code",
   "execution_count": 13,
   "metadata": {},
   "outputs": [
    {
     "data": {
      "text/html": [
       "<img src=\"https://github.com/witty27818a/Works/blob/master/%E5%B0%88%E6%A1%88%E5%85%A7%E5%AE%B9/(%E5%9C%96%E7%89%87%E9%80%A3%E7%B5%90)%E7%9C%9F%E7%9A%84%E5%81%87%E7%9A%84---Twitter%E7%81%BD%E9%9B%A3%E6%80%A7%E8%B2%BC%E6%96%87%E4%B9%8B%E7%9C%9F%E5%AF%A6%E6%80%A7%E5%88%A4%E6%96%B7/%E6%8A%95%E5%BD%B1%E7%89%8759.PNG?raw=true\"/>"
      ],
      "text/plain": [
       "<IPython.core.display.Image object>"
      ]
     },
     "execution_count": 13,
     "metadata": {},
     "output_type": "execute_result"
    }
   ],
   "source": [
    "Image(url = ppt_url_part_1 + str(59) + ppt_url_part_2)"
   ]
  },
  {
   "cell_type": "markdown",
   "metadata": {},
   "source": [
    "## Line Bot原理\n",
    "1. 用戶發送訊息至LINE 官方帳號。\n",
    "2. LINE Platform 將一個 webhook 事件重送至bot server 的 webhook URL，也就是 deploy 於 Heruko 平台的server端。\n",
    "3. Bot server 將依據 webhook event，透過LINE Platform 回應用戶"
   ]
  },
  {
   "cell_type": "code",
   "execution_count": 14,
   "metadata": {},
   "outputs": [
    {
     "data": {
      "text/html": [
       "<img src=\"https://github.com/witty27818a/Works/blob/master/%E5%B0%88%E6%A1%88%E5%85%A7%E5%AE%B9/(%E5%9C%96%E7%89%87%E9%80%A3%E7%B5%90)%E7%9C%9F%E7%9A%84%E5%81%87%E7%9A%84---Twitter%E7%81%BD%E9%9B%A3%E6%80%A7%E8%B2%BC%E6%96%87%E4%B9%8B%E7%9C%9F%E5%AF%A6%E6%80%A7%E5%88%A4%E6%96%B7/%E6%8A%95%E5%BD%B1%E7%89%8760.PNG?raw=true\"/>"
      ],
      "text/plain": [
       "<IPython.core.display.Image object>"
      ]
     },
     "execution_count": 14,
     "metadata": {},
     "output_type": "execute_result"
    }
   ],
   "source": [
    "Image(url = ppt_url_part_1 + str(60) + ppt_url_part_2)"
   ]
  },
  {
   "cell_type": "code",
   "execution_count": 15,
   "metadata": {},
   "outputs": [
    {
     "data": {
      "text/html": [
       "<img src=\"https://github.com/witty27818a/Works/blob/master/%E5%B0%88%E6%A1%88%E5%85%A7%E5%AE%B9/(%E5%9C%96%E7%89%87%E9%80%A3%E7%B5%90)%E7%9C%9F%E7%9A%84%E5%81%87%E7%9A%84---Twitter%E7%81%BD%E9%9B%A3%E6%80%A7%E8%B2%BC%E6%96%87%E4%B9%8B%E7%9C%9F%E5%AF%A6%E6%80%A7%E5%88%A4%E6%96%B7/%E6%8A%95%E5%BD%B1%E7%89%8761.PNG?raw=true\"/>"
      ],
      "text/plain": [
       "<IPython.core.display.Image object>"
      ]
     },
     "execution_count": 15,
     "metadata": {},
     "output_type": "execute_result"
    }
   ],
   "source": [
    "Image(url = ppt_url_part_1 + str(61) + ppt_url_part_2)"
   ]
  }
 ],
 "metadata": {
  "kernelspec": {
   "display_name": "Python 3",
   "language": "python",
   "name": "python3"
  },
  "language_info": {
   "codemirror_mode": {
    "name": "ipython",
    "version": 3
   },
   "file_extension": ".py",
   "mimetype": "text/x-python",
   "name": "python",
   "nbconvert_exporter": "python",
   "pygments_lexer": "ipython3",
   "version": "3.7.1"
  }
 },
 "nbformat": 4,
 "nbformat_minor": 4
}
